{
 "cells": [
  {
   "cell_type": "code",
   "execution_count": 1,
   "metadata": {
    "collapsed": true
   },
   "outputs": [],
   "source": [
    "import pandas as pdi\n",
    "import datetime as dt\n",
    "from scipy.stats import itemfreq\n",
    "\n",
    "import numpy as np"
   ]
  },
  {
   "cell_type": "code",
   "execution_count": 2,
   "metadata": {
    "collapsed": true
   },
   "outputs": [],
   "source": [
    "from sklearn import metrics\n",
    "from sklearn.cluster import KMeans,MiniBatchKMeans"
   ]
  },
  {
   "cell_type": "code",
   "execution_count": 3,
   "metadata": {
    "collapsed": true
   },
   "outputs": [],
   "source": [
    "from sklearn.feature_extraction.text import TfidfVectorizer"
   ]
  },
  {
   "cell_type": "code",
   "execution_count": 4,
   "metadata": {
    "collapsed": false
   },
   "outputs": [],
   "source": [
    "data= pd.read_excel(\"data.xlsx\",sep='|')"
   ]
  },
  {
   "cell_type": "code",
   "execution_count": 5,
   "metadata": {
    "collapsed": false
   },
   "outputs": [
    {
     "data": {
      "text/html": [
       "<div>\n",
       "<table border=\"1\" class=\"dataframe\">\n",
       "  <thead>\n",
       "    <tr style=\"text-align: right;\">\n",
       "      <th></th>\n",
       "      <th>Index</th>\n",
       "      <th>Parent</th>\n",
       "      <th>TcId</th>\n",
       "      <th>Name</th>\n",
       "      <th>FunctionalArea</th>\n",
       "      <th>Version</th>\n",
       "      <th>Type</th>\n",
       "      <th>Status</th>\n",
       "      <th>Objective</th>\n",
       "      <th>Procedure</th>\n",
       "      <th>...</th>\n",
       "      <th>test_team_qgroup</th>\n",
       "      <th>Test_test</th>\n",
       "      <th>testability</th>\n",
       "      <th>Tester</th>\n",
       "      <th>timeout</th>\n",
       "      <th>units</th>\n",
       "      <th>use_for_average</th>\n",
       "      <th>use_for_kpi</th>\n",
       "      <th>Objective1</th>\n",
       "      <th>Obj</th>\n",
       "    </tr>\n",
       "  </thead>\n",
       "  <tbody>\n",
       "    <tr>\n",
       "      <th>1</th>\n",
       "      <td>1</td>\n",
       "      <td>NaN</td>\n",
       "      <td>Rumi Load Build FBC</td>\n",
       "      <td>Rumi Load Build FBC</td>\n",
       "      <td>---BuildLoadRumi_FBC (id: 158271)</td>\n",
       "      <td>1.0</td>\n",
       "      <td>Normal</td>\n",
       "      <td>Active</td>\n",
       "      <td>NaN</td>\n",
       "      <td></td>\n",
       "      <td>...</td>\n",
       "      <td>NaN</td>\n",
       "      <td>NaN</td>\n",
       "      <td>NaN</td>\n",
       "      <td>NaN</td>\n",
       "      <td>7200.0</td>\n",
       "      <td>NaN</td>\n",
       "      <td>NaN</td>\n",
       "      <td>NaN</td>\n",
       "      <td></td>\n",
       "      <td>NaN</td>\n",
       "    </tr>\n",
       "    <tr>\n",
       "      <th>2</th>\n",
       "      <td>2</td>\n",
       "      <td>NaN</td>\n",
       "      <td>Baseport_binderipc_1</td>\n",
       "      <td>Binder IPC</td>\n",
       "      <td>---Baseport-stress (id: 29068)</td>\n",
       "      <td>1.0</td>\n",
       "      <td>Iteration</td>\n",
       "      <td>Active</td>\n",
       "      <td>perform IPC operation on specified core</td>\n",
       "      <td>binderInts 1 18</td>\n",
       "      <td>...</td>\n",
       "      <td>NaN</td>\n",
       "      <td>NaN</td>\n",
       "      <td>NaN</td>\n",
       "      <td>NaN</td>\n",
       "      <td>NaN</td>\n",
       "      <td>NaN</td>\n",
       "      <td>NaN</td>\n",
       "      <td>NaN</td>\n",
       "      <td>perform IPC operation on specified core</td>\n",
       "      <td>perform IPC operation specified core</td>\n",
       "    </tr>\n",
       "    <tr>\n",
       "      <th>4</th>\n",
       "      <td>4</td>\n",
       "      <td>NaN</td>\n",
       "      <td>Baseport_coremark_1</td>\n",
       "      <td>Coremark</td>\n",
       "      <td>---Baseport-stress (id: 29068)</td>\n",
       "      <td>1.0</td>\n",
       "      <td>Normal</td>\n",
       "      <td>Active</td>\n",
       "      <td>From StressTestFramework</td>\n",
       "      <td>NaN</td>\n",
       "      <td>...</td>\n",
       "      <td>NaN</td>\n",
       "      <td>NaN</td>\n",
       "      <td>NaN</td>\n",
       "      <td>NaN</td>\n",
       "      <td>NaN</td>\n",
       "      <td>NaN</td>\n",
       "      <td>NaN</td>\n",
       "      <td>NaN</td>\n",
       "      <td>From StressTestFramework</td>\n",
       "      <td>From StressTestFramework</td>\n",
       "    </tr>\n",
       "  </tbody>\n",
       "</table>\n",
       "<p>3 rows × 60 columns</p>\n",
       "</div>"
      ],
      "text/plain": [
       "   Index  Parent                  TcId                 Name  \\\n",
       "1      1     NaN  Rumi Load Build FBC   Rumi Load Build FBC   \n",
       "2      2     NaN  Baseport_binderipc_1           Binder IPC   \n",
       "4      4     NaN   Baseport_coremark_1             Coremark   \n",
       "\n",
       "                      FunctionalArea  Version       Type  Status  \\\n",
       "1  ---BuildLoadRumi_FBC (id: 158271)      1.0     Normal  Active   \n",
       "2     ---Baseport-stress (id: 29068)      1.0  Iteration  Active   \n",
       "4     ---Baseport-stress (id: 29068)      1.0     Normal  Active   \n",
       "\n",
       "                                 Objective        Procedure  \\\n",
       "1                                      NaN                    \n",
       "2  perform IPC operation on specified core  binderInts 1 18   \n",
       "4                From StressTestFramework               NaN   \n",
       "\n",
       "                   ...                  test_team_qgroup Test_test  \\\n",
       "1                  ...                               NaN       NaN   \n",
       "2                  ...                               NaN       NaN   \n",
       "4                  ...                               NaN       NaN   \n",
       "\n",
       "   testability  Tester  timeout  units  use_for_average  use_for_kpi  \\\n",
       "1          NaN     NaN   7200.0    NaN              NaN          NaN   \n",
       "2          NaN     NaN      NaN    NaN              NaN          NaN   \n",
       "4          NaN     NaN      NaN    NaN              NaN          NaN   \n",
       "\n",
       "                                Objective1  \\\n",
       "1                                            \n",
       "2  perform IPC operation on specified core   \n",
       "4                From StressTestFramework    \n",
       "\n",
       "                                    Obj  \n",
       "1                                   NaN  \n",
       "2  perform IPC operation specified core  \n",
       "4              From StressTestFramework  \n",
       "\n",
       "[3 rows x 60 columns]"
      ]
     },
     "execution_count": 5,
     "metadata": {},
     "output_type": "execute_result"
    }
   ],
   "source": [
    "data.head(3)"
   ]
  },
  {
   "cell_type": "code",
   "execution_count": null,
   "metadata": {
    "collapsed": false
   },
   "outputs": [],
   "source": []
  },
  {
   "cell_type": "code",
   "execution_count": 6,
   "metadata": {
    "collapsed": false
   },
   "outputs": [],
   "source": [
    "data=data[data['Objective'].notnull()]\n"
   ]
  },
  {
   "cell_type": "code",
   "execution_count": 7,
   "metadata": {
    "collapsed": true
   },
   "outputs": [],
   "source": [
    "data=data[data.Status!='Inactive']"
   ]
  },
  {
   "cell_type": "code",
   "execution_count": 8,
   "metadata": {
    "collapsed": false
   },
   "outputs": [],
   "source": [
    "data=data.dropna(axis=0, how='all')"
   ]
  },
  {
   "cell_type": "code",
   "execution_count": 9,
   "metadata": {
    "collapsed": false
   },
   "outputs": [
    {
     "data": {
      "text/plain": [
       "(623,)"
      ]
     },
     "execution_count": 9,
     "metadata": {},
     "output_type": "execute_result"
    }
   ],
   "source": [
    "data['Objective'].shape"
   ]
  },
  {
   "cell_type": "code",
   "execution_count": 10,
   "metadata": {
    "collapsed": false
   },
   "outputs": [],
   "source": [
    "#data['Objective1']=data['Objective'].apply(lambda x : x.replace('_',' '))"
   ]
  },
  {
   "cell_type": "code",
   "execution_count": 11,
   "metadata": {
    "collapsed": false
   },
   "outputs": [],
   "source": [
    "#print(data['Name1'])"
   ]
  },
  {
   "cell_type": "code",
   "execution_count": 12,
   "metadata": {
    "collapsed": false
   },
   "outputs": [
    {
     "data": {
      "text/plain": [
       "(623,)"
      ]
     },
     "execution_count": 12,
     "metadata": {},
     "output_type": "execute_result"
    }
   ],
   "source": [
    "data['Objective'].shape"
   ]
  },
  {
   "cell_type": "code",
   "execution_count": 13,
   "metadata": {
    "collapsed": false
   },
   "outputs": [
    {
     "data": {
      "text/plain": [
       "(623, 60)"
      ]
     },
     "execution_count": 13,
     "metadata": {},
     "output_type": "execute_result"
    }
   ],
   "source": [
    "data.shape"
   ]
  },
  {
   "cell_type": "code",
   "execution_count": 14,
   "metadata": {
    "collapsed": false
   },
   "outputs": [
    {
     "name": "stdout",
     "output_type": "stream",
     "text": [
      "0\n"
     ]
    }
   ],
   "source": [
    "NullValuesInDescription =sum(pd.isnull(data['Objective']))\n",
    "print(NullValuesInDescription)"
   ]
  },
  {
   "cell_type": "code",
   "execution_count": 15,
   "metadata": {
    "collapsed": false
   },
   "outputs": [],
   "source": [
    "import nltk\n",
    "from nltk.stem import PorterStemmer\n",
    "ps = PorterStemmer()"
   ]
  },
  {
   "cell_type": "code",
   "execution_count": 16,
   "metadata": {
    "collapsed": true
   },
   "outputs": [],
   "source": [
    "#list=['affects', 'affined','affinity','affinity_notchanged', 'aggregation','aggressive', 'alarm','alarms','alignment', 'all_ssr', 'allocation','android', 'anti','antutu','api','apk','app','application', 'apps', 'apt']"
   ]
  },
  {
   "cell_type": "code",
   "execution_count": 17,
   "metadata": {
    "collapsed": false
   },
   "outputs": [
    {
     "data": {
      "text/plain": [
       "'\\nnew_text = \\'app apps alarm alrms affined affinity\\'\\nwords = nltk.word_tokenize(new_text)\\nfinal = [[ps.stem(token) for token in sentence.split(\" \")] for sentence in list]\\nfor w in words:\\n    print(ps.stem(w))'"
      ]
     },
     "execution_count": 17,
     "metadata": {},
     "output_type": "execute_result"
    }
   ],
   "source": [
    "\"\"\"\n",
    "new_text = 'app apps alarm alrms affined affinity'\n",
    "words = nltk.word_tokenize(new_text)\n",
    "final = [[ps.stem(token) for token in sentence.split(\" \")] for sentence in list]\n",
    "for w in words:\n",
    "    print(ps.stem(w))\"\"\""
   ]
  },
  {
   "cell_type": "markdown",
   "metadata": {},
   "source": [
    "#### remove punctuations !\"#$%&'()*+,-./:;<=>?@[\\]^_`{|}~"
   ]
  },
  {
   "cell_type": "code",
   "execution_count": 17,
   "metadata": {
    "collapsed": false
   },
   "outputs": [],
   "source": [
    "import string\n",
    "table = str.maketrans(' ', ' ', string.punctuation)\n",
    "#table= str.maketrans(string.punctuation, ' '*len(string.punctuation))\n",
    "data['Obj'] = [w.translate(table) for w in data['Objective']]\n",
    "    "
   ]
  },
  {
   "cell_type": "code",
   "execution_count": 18,
   "metadata": {
    "collapsed": false
   },
   "outputs": [
    {
     "name": "stdout",
     "output_type": "stream",
     "text": [
      "!\"#$%&'()*+,-./:;<=>?@[\\]^_`{|}~\n"
     ]
    }
   ],
   "source": [
    "print(string.punctuation)"
   ]
  },
  {
   "cell_type": "code",
   "execution_count": 19,
   "metadata": {
    "collapsed": false
   },
   "outputs": [],
   "source": [
    "data['Obj'] =[' '.join(s for s in words.split() if not (any(c.isdigit() for c in s) or (len(s)<3))) for words in data['Obj'] ]"
   ]
  },
  {
   "cell_type": "code",
   "execution_count": 20,
   "metadata": {
    "collapsed": true
   },
   "outputs": [],
   "source": [
    "doc=data['Obj'].values"
   ]
  },
  {
   "cell_type": "code",
   "execution_count": 21,
   "metadata": {
    "collapsed": false
   },
   "outputs": [
    {
     "data": {
      "text/plain": [
       "712"
      ]
     },
     "execution_count": 21,
     "metadata": {},
     "output_type": "execute_result"
    }
   ],
   "source": [
    "len(doc)"
   ]
  },
  {
   "cell_type": "code",
   "execution_count": 22,
   "metadata": {
    "collapsed": false
   },
   "outputs": [],
   "source": [
    "#data['Obj']"
   ]
  },
  {
   "cell_type": "code",
   "execution_count": 23,
   "metadata": {
    "collapsed": false
   },
   "outputs": [
    {
     "data": {
      "text/plain": [
       "array(['perform IPC operation specified core', 'From StressTestFramework',\n",
       "       'perform hotplug for all available cpus',\n",
       "       'Hogs CPU ensure there are crashes', 'performs CPUDMA cyclic Test',\n",
       "       'run benchmark stress mode catch crashes specific kernel',\n",
       "       'From StressTestFramework', 'run file monkey hotplug mode',\n",
       "       'From StressTestFramework',\n",
       "       'Creates two buffers bufsize bytes fills them with random values copies randomsized regions between them and compares the result This useful for generating general dcache and pressure',\n",
       "       'This generalpurpose kernel stress utility that found online',\n",
       "       'Test Suspend Resume',\n",
       "       'SysBench modular crossplatform and multithreaded benchmark tool for evaluating',\n",
       "       'run LDREX Test',\n",
       "       'Make sure that CONFIGMSMMPMOF enabled otherwise ensure that irq failures are seen you any messages like msmsmdprobe enableirqwake failed then report the failure',\n",
       "       'check cpu freq available cores',\n",
       "       'Run adb reboot times without crash',\n",
       "       'ensure KPI logs coming dmesg',\n",
       "       'This program empirically determine some parameters about architectures memory subsystem',\n",
       "       'Tries maximize randomized traffic memory from processor and',\n",
       "       'run cacheflush stress mode', 'Enable Cache Parity Error Detection',\n",
       "       'set rates the clocks', 'Check CPU Max and Min Freq',\n",
       "       'check cpu usage properly displayed top logs',\n",
       "       'Check CPU Hotplug happening for fine',\n",
       "       'Check CPU and Down hotplug latency less than secs',\n",
       "       'Check High Resolution Timers',\n",
       "       'check inter process interrupt usage',\n",
       "       'customer reported issue IOT where SMSM and SMD irqs failed enable',\n",
       "       'check IRQ interrupt Timers', 'check randomizevaspace set',\n",
       "       'check kernel module are signed otherwise test fails',\n",
       "       'Check cache and its per specification', 'memory writeexecute test',\n",
       "       'Privileged Access Never feature', 'PXN feature',\n",
       "       'memory writeexecute test', 'memory writeexecute test',\n",
       "       'memory writeexecute test', 'memory writeexecute test',\n",
       "       'Read only memory write test', 'memory test write kernel memory',\n",
       "       'create PANIC', 'create BUG', 'create EXCEPTION',\n",
       "       'create Loop test', 'creates overflow condition',\n",
       "       'currupt stack buffer', 'create software lockup',\n",
       "       'create hardware lockup state', 'spine lockup test',\n",
       "       'create situation for hung', 'creates atomic underflow',\n",
       "       'creates atomic overflow', 'copy from user heap',\n",
       "       'copy user from heap', 'copy from user heap flag',\n",
       "       'copy user from heap flag', 'copy from user stack frame',\n",
       "       'copy user from stack frame', 'copy from user beyond the stack',\n",
       "       'user copy kernel',\n",
       "       'customer reported corner issue with where roundingoff USEC resulting delay timer expiratation',\n",
       "       'Check socinfo the MSM', 'check the spinlock functionality',\n",
       "       'check whether LLCC driver can activate and deactivate the slices defined SCT',\n",
       "       'verify that LLCC driver can handle invalid descriptors NULL upon being used perform actions',\n",
       "       'change data the llccsliceconfig structure for certain slice CPUSS',\n",
       "       'verify timer functionality Times sleep verify timer functionality',\n",
       "       'From StressTestFramework', 'verify uart using serial console',\n",
       "       'check virtual floating point functionality',\n",
       "       'simulate apps watchdog bite',\n",
       "       'Objective confirm that verity enabled',\n",
       "       'Objective verify Verity functionality',\n",
       "       'Objective verify DMVerity functionality',\n",
       "       'Run LTP test suite and check for failures',\n",
       "       'report the denial message seen selinux permissive and enforcement mode',\n",
       "       'Kernel Version',\n",
       "       'Facebook Home APK that requires certain changes Android order properly supported Approving this part the POR means that Facebook Home patches will integrated into the tested with the Facebook APK and delivered the customer part the overall deliverable for the This requirement applicable for and later Android SPs',\n",
       "       'APSS software Android Boot shall initialize kernel space and user space',\n",
       "       'APSS software Android Boot shall initialize kernel space and user space',\n",
       "       'APSS software Android Boot shall initialize kernel space and user space with backward compatibility for applications',\n",
       "       'Enable dmverity Android protect the integrity readonly partitions System partition',\n",
       "       'Support configure kernel dynamic log mask mask file Collect the log and save persistent storage device',\n",
       "       'Switch governor perf offline all CPUs cluster switch back memlat online cluster check memlat set',\n",
       "       'offline all CPUs cluster Switch governor perf switch back memlat online cluster check there crash',\n",
       "       'test basic features DCVS suite',\n",
       "       'Check default governor bootup interactive scheduti',\n",
       "       'Cross trigger hardware blocks and processors',\n",
       "       'Log STM data nonvolatile files',\n",
       "       'Log Ftrace via STM Linux platform',\n",
       "       'Debugger shall connected through uSD card slot through detection solution',\n",
       "       'enable trace', 'Support builtin CTICTM',\n",
       "       'Debug Support PMU enhancements', 'Debug Support tracing',\n",
       "       'Abnormal Reset PMIC wdog and key press reset and MSM temp reset shall connected the Watchdog Reset Debug path the Reset Controller',\n",
       "       'Support tenure counting',\n",
       "       'Support SMMU transaction history logging',\n",
       "       'Shall provide hardware mechanism access any memory region SoC and store the data needed when crashes occurs',\n",
       "       'Enable SWD uSD Card Slot using the Switching switching method specified MIPI NIDnT Spec',\n",
       "       'Enable SWD Card Slot using Pin Stimulated sensing method according MIPI NIDnT spec',\n",
       "       'Debug Support external haltmode debugger and selfhosted debugger',\n",
       "       'perform basic validation buffer coherency with coherent client iommutestdevice and its system cache feature',\n",
       "       'perform basic validation buffer coherency with normal client iommutestdevice and its System Cache feature',\n",
       "       'POC Honglei', 'Memory optimization',\n",
       "       'check memory map dmesg and see its properly mapped per the chipset specifications',\n",
       "       'Peripheral Image Loader IPAFWS', 'Peripheral Image Loader KGSL',\n",
       "       'Relocatable Images feature gives control memory map apps PIL supports this functionality and offers settings for memory map within device tree configuration',\n",
       "       'Modem Restart provides common infrastructure for detecting and recovering from software and hardware failures Modem subsystems with minimal impact the user experience',\n",
       "       'Peripheral Image Loader LPASS image',\n",
       "       'Peripheral Image Loader modem image',\n",
       "       'Peripheral Image Loader Venus image',\n",
       "       'Peripheral Image Loader WCNSS image',\n",
       "       'pIf one task defined group big and migrates big cluster upmigrate the other tasks that group Addresses userspace performance dependencies across tasksp',\n",
       "       'pAccount task wait runnable time more fairly neither fully busy fully nonbusyp',\n",
       "       'pUse temperature values instead power values for CPU selection Avoids thermal mitigation and allows higher sustained fmax Being prototyped Concept and initial implementation from CRD SAR teamp',\n",
       "       'Switch from high performance low power cluster before entering HLOS during cold boot',\n",
       "       'ensure little CPUs goes fmax before upmigrating all group tasks aggregatedgroupthres crosses',\n",
       "       'Core control functional test', 'Core control functional test',\n",
       "       'Core control functional test', 'Core control functional test',\n",
       "       'Core control functional test',\n",
       "       'cat sysdevicessystemcpucpuXcorectlglobalstate should give info above isolation info for all CPUs',\n",
       "       'Node read the energy model', 'Core Isolation functional test',\n",
       "       'Validate that KPTR equal', 'Obtain value for dmverity',\n",
       "       'Check entropy bits', 'Obtain value for linux property',\n",
       "       'Verify that config flag for Hardened Usercopy enabled',\n",
       "       'Verify that config flag for Module RonX enabled',\n",
       "       'Will immediately reboot the system without syncing unmounting your disks',\n",
       "       'Will perform system crash NULL pointer dereference',\n",
       "       'Send SIGTERM all processes except for init Device will crash',\n",
       "       'fill call oomkill kill memory hog process',\n",
       "       'Will display help actually any other key than those listed here will display help but easy remember',\n",
       "       'Send SIGKILL all processes except for init Device will reboot',\n",
       "       'Forcibly Just thaw Emergency THAW',\n",
       "       'Shows stack backtrace for all active CPUs',\n",
       "       'Will dump current memory info your console',\n",
       "       'Used make tasks niceable',\n",
       "       'Will shut your system off configured and supported Device will reboot',\n",
       "       'Will dump the current registers and flags your console',\n",
       "       'Will dump per CPU lists all armed hrtimers',\n",
       "       'Will attempt sync all mounted filesystems',\n",
       "       'Will dump list current tasks and their information your Console',\n",
       "       'Will attempt remount all mounted filesystems readonly',\n",
       "       'Dump the ftrace buffer',\n",
       "       'Dumps tasks that are uninterruptable blocked state',\n",
       "       'does allocation using malloc', 'does brute force stability test',\n",
       "       'does memory load', 'sysBenchFileIO', 'icache test',\n",
       "       'Effort required for coexist with zRAM', 'POC Honglei',\n",
       "       'Mamory optimization not use swapcache for ZRAM Kernel does swap readahead which not required for ZRAM accesses are fast Kernel delays the freeing swapcache expecting later hit which not required for ZRAM',\n",
       "       'Support for NAND memory', 'Support for System MMU',\n",
       "       'must support commercialization Android device configured with total RAM and maintain Free memory Free memory nonHLOS kernel Android framework applications',\n",
       "       'POC Honglei',\n",
       "       'Memory optimization Free useable physical memory should more than bytes when phone configuration',\n",
       "       'POC Honglei', 'ATOS VAPA Translation Service for debug',\n",
       "       'CATS Client side Address Translation Stimulus for debug',\n",
       "       'Mamory optimization Aggressively swap the Background Applications ZRAM This increase the ZRAM utilization and improves concurrency applications also helps maintain higher free memory levels',\n",
       "       'Mamory optimization',\n",
       "       'Mamory optimization Enable Per Process for low RAM and Starting with enabled for well OEMs are looking for concurrency even for',\n",
       "       'Check External sdcard support till',\n",
       "       'adb reboot dmverity device corrupted',\n",
       "       'adb reboot dmverity enforcing', 'adb reboot keys clear',\n",
       "       'adb reboot rtc', 'adb reboot recovery', 'adb reboot oemlock',\n",
       "       'adb reboot oemunlock', 'Secure Boot',\n",
       "       'Physical Debug Porting Support for logging information output during bootup stage Ability output extensive messages allow OEMs send logs more efficiently',\n",
       "       'Disabling Google security feature nonsecure devices',\n",
       "       'Support for fastboot over while device mode This basically requiring fastboot over new interface',\n",
       "       'Keymaster interface has been defined Google and published Keymaster HAL will first needed for Nexus program with Google Additionally need for all Android releases going forward likely summer prepare for Android release',\n",
       "       'verify DUT vibrates issuing fastboot reboot',\n",
       "       'Device should charge power off mode',\n",
       "       'verify DUT vibrates bootup after FDR',\n",
       "       'move device apps bootloader fastboot mode',\n",
       "       'Check Power off screen observed fastboot',\n",
       "       'Long Press the device for force crash the device',\n",
       "       'Check Restart Bootloader screen seen fastboot',\n",
       "       'Check Start comes issuing adb reboot bootloader',\n",
       "       'partitionsizesystema', 'Load Meta and Apps',\n",
       "       'Boot the system and check for “incorrect alignment CMA region” dmesg logs',\n",
       "       'Baseport CPUFreq stress test',\n",
       "       'test the load the cpu does not affect the frequency with powersave',\n",
       "       'test the load the cpu does not affect the frequency with userspace',\n",
       "       'test the load the cpu affects the frequency with ondemand',\n",
       "       'test the change the frequencies affect the performances test program',\n",
       "       'test the sysfs files are present',\n",
       "       'test the cpuidle files are present the sysfs',\n",
       "       'test the topology implemented the kernel',\n",
       "       'From StressTestFramework',\n",
       "       'test the change the frequency effective userspace mode',\n",
       "       'Run cpuidle program killer',\n",
       "       'Run cpuidle program killer and unplug one one the cpus except',\n",
       "       'test the topology files are present',\n",
       "       'test that the scheddomain files are present and show the topology related flags',\n",
       "       'make sure that the information sysfirmwaredevicetreebasecpus corresponds that reported the kernel log',\n",
       "       'governor change effective',\n",
       "       'test ondemand and conservative trigger correctly the configuration directory',\n",
       "       'test the cpufreq framework available for governor',\n",
       "       'test the cpu state reflected sysfs',\n",
       "       'test the affinity does not work offline cpu',\n",
       "       'test task migrated with task affinity',\n",
       "       'test cpus are reflected proccpuinfo correctly',\n",
       "       'test interrupts show the right configuration procinterrupts',\n",
       "       'test userspace notification',\n",
       "       'randomly hotplug cpus for times not percpu',\n",
       "       'ensure all the cpus are online when the tests are finished',\n",
       "       'From StressTestFramework', 'From StressTestFramework',\n",
       "       'From StressTestFramework', 'From StressTestFramework',\n",
       "       'From StressTestFramework', 'Memory benchmark threads number cores',\n",
       "       'Benchmarks', 'Performance Benchmark', 'Performance Benchmark',\n",
       "       'Expose image information loaded Android phones',\n",
       "       'enforcing should set',\n",
       "       'Modify the boot image boot with different selected cores from and inverse both combinations use cmdline arg boot with different combination cores default online',\n",
       "       'VerifyHangDetection',\n",
       "       'This test checks these configs are enabled pulling configgz from proc and parsing the flags seperately',\n",
       "       'context switch latency time', 'VerifyHangDetection',\n",
       "       'Validate USB attachdetach once EUD integrated',\n",
       "       'Validate charge enabledisable',\n",
       "       'Validate debug data transfer through EUD',\n",
       "       'Validate that EUD gets enumerated upon attaching USB cable',\n",
       "       'test support change the configuration options direction activelow irq for given gpio pin',\n",
       "       'Run simple perf hotplug test from google',\n",
       "       'Observe the change prockallsyms printing the symbol address for symbol for every boot',\n",
       "       'Check the dmesg logs for information leaks',\n",
       "       'Append nokaslr commandline parameters and check KASLR feature actually getting disabled not',\n",
       "       'customer reported where updates are not properly relayed userspace',\n",
       "       'test the pinctrl framework', 'PMU Initialization',\n",
       "       'cpupmu driver loaded check', 'check',\n",
       "       'Multiple cycle events possible check',\n",
       "       'Set excludeidle attribute for event check',\n",
       "       'excludeidle attribute support check',\n",
       "       'Idle busy counts for excludeidle attribute event',\n",
       "       'Preserve event counts across hotplug',\n",
       "       'eventssweventcpuclockcontextswitches offline cpu check offline',\n",
       "       'events offline cpu check', 'events offline cpu check offline',\n",
       "       'power key pressed multiple times during charging',\n",
       "       'User Access Override',\n",
       "       'couple baseport issues are reported kobject struct usb connectdisconnect would expose such issues for instance',\n",
       "       'check CONFIGDMVERITYy present configgz',\n",
       "       'check below dmesg prints are coming remount Buffer error device logical block lost page write due error',\n",
       "       'Open the fstab file editor and check following line present the line present DMVerity enabled devblockbootdevicebynamesystem system waitverify',\n",
       "       'Memprof Test', 'Onchip memory Test',\n",
       "       'ensure that mini dump getting collected',\n",
       "       'ensure that mini dump getting collected into emmc after changing this sysnode mini',\n",
       "       'ensure that mini dump getting collected into emmc after changing this sysnode mini',\n",
       "       'when data partition low memory shouldn’t result unnecessary issues',\n",
       "       'device should create unique crashdump folder data parition and previous dump collected shouldn’t overwritten and the dump that was interrupted should incomplete',\n",
       "       'Modem unsuccesfull registeration shouldnt hinder collecting apps mini dump',\n",
       "       'Run crashscope and see its able extract dmesg and respective subsystem logs',\n",
       "       'shouldn’t accept the junk values',\n",
       "       'hotplug some cores and crash the dump offline core resgisters shouldn’t dumped into mini crashdump',\n",
       "       'Crashscope does read these from minidump until crashdump delivers this support need read from steps are yet shared Dev Team',\n",
       "       'Scheduler Functional Test',\n",
       "       'verify the behavior system cache upon being disabled from bootup',\n",
       "       'verify the behavior system cache upon being disabled during runtime',\n",
       "       'verify that Display and CPU clients are able allocate data system cache the same time',\n",
       "       'Tests fundamental correctness the devfreq bus and clock drivers',\n",
       "       'Set socqcommincpubw governor cpufreq CPUs curfreq maxfreq DDR floor should ramp described socqcommincpubwcpufreqfreqmap',\n",
       "       'Tests fundamental performance governor for BUS',\n",
       "       'Tests end end correctness BUS DCVS low load conditions',\n",
       "       'Tests end end correctness BUS DCVS medium load conditions',\n",
       "       'Tests end end correctness BUS DCVS high load conditions',\n",
       "       'bwhwmonmeas trace for each device should appear intervals specified polling interval',\n",
       "       'Verify effective freq counters are working properly',\n",
       "       'Verify effective freq counters are working properly',\n",
       "       'Verify effective freq counters are working properly',\n",
       "       'Verify mapping table working properly',\n",
       "       'Test correctness Fast CPU ramp feature',\n",
       "       'Test correctness Fast CPU ramp down feature',\n",
       "       'Check the scheduler reevaluating the load CPU fast its supposed Typically its',\n",
       "       'Verify CPU DCVS Tunable parameters',\n",
       "       'Check popular governors like performance userspace and interactive are present',\n",
       "       'Set the cluster indexes governor performance then check that all cores made the switch',\n",
       "       'Get list available frequencies from each cluster randomly set them max frequency and check that current frequency changed',\n",
       "       'Set the cluster indexes governor userspace then check that all cores made the switch',\n",
       "       'Get list available frequencies from each cluster randomly set them scalingsetspeed and check that current frequency changed',\n",
       "       'Try set min value greater than max and vice versa Pass max min',\n",
       "       'Set the cluster indexes governor interactive then check that all cores made the switch',\n",
       "       'Get the minimum and maximum available frequencies from each cluster then try set min and max random values outside them',\n",
       "       'Upon seeing new load governor should step max and not hispeedfreq',\n",
       "       'Upon seeing old load governor should step hispeedfreq first provided you see CPU load higher than hispeedload',\n",
       "       'With useschedload off load migrating around the CPUs cluster for equal time timerrate CPUs should not cause increase frequency than min',\n",
       "       'With useschedload load migrating around the CPUs cluster for equal time timerrate CPUs should cause increase frequency than min',\n",
       "       'Remove load once core running max and check the frequency remains higher than hispeedfreq for time mentioned per maxfreqhysterisis',\n",
       "       'During the wait for hysterisis time done biring back load higher than one timerrate freq should back Max directly',\n",
       "       'Put Governor performance mode make execution same run time Make sure Predictive DCVS Exectue loads that are and see history building and deteriorating expected',\n",
       "       'Heavy task ramp latency should less than windows',\n",
       "       'Set maxfreqhysterisis Set minsampletime Remove load once core running max and check the frequency remains max for more that minsampletim',\n",
       "       'Set gohispeedload Set target load Run load that slightly above targetload During every window should see the frequency should until hits max Should not down Also evaluate the loadfreq equation verify the ramp was done right',\n",
       "       'Check writing boost node interactiveboost makes curfreq equal hispeedfreq and writng brings back down',\n",
       "       'Upon seeing new load governor should step max and not hispeedfreq',\n",
       "       'Upon seeing old load governor should step hispeedfreq first provided you see CPU load higher than hispeedload',\n",
       "       'With useschedload off load migrating around the CPUs cluster for equal time timerrate CPUs should not cause increase frequency than min',\n",
       "       'With useschedload load migrating around the CPUs cluster for equal time timerrate CPUs should cause increase frequency than min',\n",
       "       'Remove load once core running max and check the frequency remains higher than hispeedfreq for time mentioned per maxfreqhysterisis',\n",
       "       'During the wait for hysterisis time done biring back load higher than one timerrate freq should back Max directly',\n",
       "       'Put Governor performance mode make execution same run time Make sure Predictive DCVS Exectue loads that are and see history building and deteriorating expected',\n",
       "       'Heavy task ramp latency should less than windows',\n",
       "       'Set maxfreqhysterisis Set minsampletime Remove load once core running max and check the frequency remains max for more that minsampletim',\n",
       "       'Set gohispeedload Set target load Run load that slightly above targetload During every window should see the frequency should until hits max Should not down Also evaluate the loadfreq equation verify the ramp was done right',\n",
       "       'Check writing boost node interactiveboost makes curfreq equal hispeedfreq and writng brings back down',\n",
       "       'Fast ramp updown Hysterisis off Migrate task from little big frequencies both clusters should desired level',\n",
       "       'Fast ramp updown Hysterisis off Migrate task from big little frequencies both clusters should desired level',\n",
       "       'Fast ramp updown off Hysterisis Migrate task from little big frequencies both clusters should desired level',\n",
       "       'Fast ramp updown off Hysterisis Migrate task from big little frequencies both clusters should desired level',\n",
       "       'Check the scheduler reevaluating the load CPU fast its supposed Typically its',\n",
       "       'During the wait for hysterisis time done biring back load lesser than gohispeedload freq should not max directly',\n",
       "       'During the wait for hysterisis time done biring back load lesser than gohispeedload freq should not max directly',\n",
       "       'Offline cluster',\n",
       "       'ensure that Big CPU online along with little CPUs bootup',\n",
       "       'When only one CPU cluster busy freq that cluster can boosted higher value than when more than one CPUs are busy This typically only enabled for Big cluster',\n",
       "       'enable STM', 'enable FTRACE', 'enable ETF',\n",
       "       'Coresight Driver initializes bootup', 'enable ETM', 'disable STM',\n",
       "       'enable ETM', 'enable STM', 'enable Event', 'Set Trace Sink ETF',\n",
       "       'Set Trace Sink ETR', 'Set Trace Sink TPIU',\n",
       "       'Trigger Nonsecure Apps watchdog bark',\n",
       "       'The debugUI driver use parameter describe the maximal registers DebugUI can capture',\n",
       "       'want debugUI work independent debug component can only enable the capture feature',\n",
       "       'After enable debugUI are able fire software trigger',\n",
       "       'DCC can configured run one the following mode Capture CRC',\n",
       "       'Disable Event',\n",
       "       'want route the captured data into ETB ETF need make DebugUI work source',\n",
       "       'When configured capture mode DCC can programmed save data either its internal buffer send trace sink over ATB',\n",
       "       'Enabling STM source', 'Enabling ETM souce',\n",
       "       'change ETR DDR mode contig', 'Disable Enable DCC',\n",
       "       'DCC RUMI functionality Tests', 'Enabling ATB Trace',\n",
       "       'Cross trigger different MSMMDM chips for multiSoC debug',\n",
       "       'Check for registers dump dcc',\n",
       "       'check registers information captured correctly part memory dump when crash occurs',\n",
       "       'verify the ramdump parser parses the ramdump correctly This implicitly tested for all types ramdumps collected during system crashes',\n",
       "       'check for RTB logs availability',\n",
       "       'Check DCC dump captured correctly per the size More details updated after the discussion with tech team Found part RCA for',\n",
       "       'check for qdss clock count unbalanced warning',\n",
       "       'check for coresigh driver probe failures', '',\n",
       "       'Check from serial logs whether eMMC support available This implicitly covered CBSP testing separate testing needed from Kernel APT This test case added for LBT test cases mapping purpose',\n",
       "       'IonTest', 'Memfeast Test', 'Check the size Cache', 'zram testing',\n",
       "       'check whether CMA enabled correctly not',\n",
       "       'Check for CMA enablement secure devices',\n",
       "       'perform basic validation buffer coherency with normal client iommutestdevice and its default coherency setting',\n",
       "       'perform basic validation buffer coherency with normal client iommutestdevice and its force coherent setting',\n",
       "       'perform basic validation buffer coherency with normal client iommutestdevice and its force normal map setting',\n",
       "       'perform basic validation buffer coherency with coherent client iommucoherenttestdevice and its force coherent setting',\n",
       "       'perform basic validation buffer coherency with coherent client iommucoherenttestdevice and its default coherency setting',\n",
       "       'perform basic validation buffer coherency with coherent client iommutestdevice and its force normal map setting',\n",
       "       'Attach Detach Client',\n",
       "       'Attach Detach with secure VMID VMIDCPPIXEL',\n",
       "       'Map UnMAP sequentially cam',\n",
       "       'Map UnMAP sequentially vidc nonsecurecb',\n",
       "       'Map sequentially without UnMap', 'Map followed cam',\n",
       "       'Secure Map UnMap different ranges', 'Map UnMap different ranges',\n",
       "       'Secure Map', 'Map',\n",
       "       'verify that tests performed this API are succesful',\n",
       "       'verify that tests performed this API are succesful',\n",
       "       'make sure With oomreaper enabled sysmodulelowmemorykillerparametersoomreaper oomreaper thread started reaping memory pages under low memory conditions well out memory scenarios',\n",
       "       'make sure when sysmodulelowmemorykillerparametersoomreaper disabled Without oomreaper oomreaper thread invoked for reaping pages only out memory scenario',\n",
       "       'check for memory leaks during client operations',\n",
       "       'This can verified using DSP Services client Need follow with DSP team this implicitly getting covered their testing testing needed from Kernel APT This test case created for test case mapping purpose',\n",
       "       'Verify that Process Domain Restart PDR for WLAN being executed successfully with system crashes',\n",
       "       'Verify that Process Domain Restart PDR for WLAN being executed successfully with system crashes',\n",
       "       'ADSP SSR Iterative Test', 'ADSP SSR Iterative Test',\n",
       "       'ADSP SSR Iterative Test', 'adsp getput Iterative Test from HLOS',\n",
       "       'Verify that Process Domain Restart PDR for Audio being executed successfully with system crashes',\n",
       "       'Verify that Process Domain Restart PDR for Audio being executed successfully with system crashes',\n",
       "       'Ensure “BG PIL driver” load firmware MDT into DDR',\n",
       "       'perform reset for iterations ensure crash reported',\n",
       "       'Calculate time taken load being FPGA would usually times slower than normal MSM NOTE criteria would confirmed receiving the actual',\n",
       "       'Trigger MSM reboot should when MSM rebooted TMW should handled Once MSM should take control watch mode and trigger reset synchronize timers',\n",
       "       'Ensure “BG PIL driver” load firmware MDT into DDR',\n",
       "       'CDSP Software Error Fatal', 'CDSP WDOG Bite',\n",
       "       'CDSP Software Exception NULL ptr',\n",
       "       'Remove Subsystem blob and reboot',\n",
       "       'Verify modem ssr minidump collected',\n",
       "       'Possibly check the modem ssr mini dump also collected not Check device able recover next reset without any issues',\n",
       "       'MPSS SSR Iterative Test', 'MPSS SSR Iterative Test',\n",
       "       'MPSS SSR Iterative Test',\n",
       "       'Testing Modem sleep and wakeup functionality from PIL driverHLOS side',\n",
       "       'suspend and resume modem',\n",
       "       'Verify that Process Domain Restart PDR for Sensor being executed successfully with system crashes',\n",
       "       'Verify that Process Domain Restart PDR for Sensor being executed successfully with system crashes',\n",
       "       'Verify SPLI SSR with null pointer exception',\n",
       "       'Verify SLPI SSR with Software error fatal',\n",
       "       'Verify SLPI SSR with Watchdog Bite',\n",
       "       'Verify Secure Processor SSR with NULL pointer',\n",
       "       'Verify Secure Processor SSR with Error Fatal',\n",
       "       'Verify Secure Processor SSR with WatchDog',\n",
       "       'Venus SSR Iterative Test', 'Venus getput Iterative Test from HLOS',\n",
       "       'Venus SSR Iterative Test', 'WCNSS SSR Iterative Test',\n",
       "       'WCNSS SSR Iterative Test', 'WCNSS SSR Iterative Test',\n",
       "       'wcnss getput Iterative Test from HLOS',\n",
       "       'Scheduler Functional Test', 'Scheduler Unit test',\n",
       "       'Scheduler Unit test', 'Scheduler Unit test',\n",
       "       'Check BIG CPU cores are moving isolation state',\n",
       "       'Scheduler Unit test', 'Scheduler Unit test', 'Scheduler Unit test',\n",
       "       'Scheduler Unit test',\n",
       "       'default mincpus are set bigcluster when idle scenario Big Taskother cores should isolated state Big Cluster',\n",
       "       'Core control functional test',\n",
       "       'configure these big cpus with different possibilities and see those CPUs goes into isolate state despite will BIG tasks number BIG CPUs',\n",
       "       'During Swipe where perfd request for boost all Big CPUs should ACTIVE though they were ISOLATED earlier for secs',\n",
       "       'Scheduler Unit test', 'Scheduler Unit test', 'Scheduler Unit test',\n",
       "       'Scheduler Unit test', 'Scheduler Unit test', 'Scheduler Unit test',\n",
       "       'Scheduler Unit test', 'Scheduler Unit test', 'Scheduler Unit test',\n",
       "       'Scheduler Unit test', 'Scheduler Unit test', 'Scheduler Unit test',\n",
       "       'Scheduler Unit test', 'Scheduler Unit test', 'Scheduler Unit test',\n",
       "       'Scheduler Unit test', 'Scheduler Functional Test',\n",
       "       'workgeneratorsuite Verify core scheduler functionality task placement migration latency and overcommitment Added this test until scheuler test script ready',\n",
       "       'Scheduler Functional Test', 'Scheduler Functional Test',\n",
       "       'Scheduler Functional Test', 'Scheduler Functional Test',\n",
       "       'Scheduler Functional Test', 'Scheduler Functional Test',\n",
       "       'Scheduler Functional Test', 'Scheduler Functional Test',\n",
       "       'Scheduler Functional Test', 'Scheduler Functional Test',\n",
       "       'Scheduler Functional Test', 'Scheduler Functional Test',\n",
       "       'Scheduler Functional Test', 'Scheduler Functional Test',\n",
       "       'Scheduler Functional Test', 'Scheduler Functional Test',\n",
       "       'Scheduler Functional Test', 'Scheduler Functional Test',\n",
       "       'Scheduler Functional Test', 'Scheduler Functional Test',\n",
       "       'Scheduler Functional Test', 'Scheduler Functional Test',\n",
       "       'Scheduler Functional Test', 'Scheduler Functional Test',\n",
       "       'Scheduler Functional Test', 'Scheduler Functional Test',\n",
       "       'Scheduler Functional Test', 'Scheduler Functional Test',\n",
       "       'Scheduler Functional Test', 'Scheduler Functional Test',\n",
       "       'Scheduler Functional Test', 'Scheduler Functional Test',\n",
       "       'Scheduler Functional Test', 'Scheduler Unit test',\n",
       "       'Scheduler Unit test', 'Scheduler Unit test', 'Scheduler Unit test',\n",
       "       'Scheduler Unit test', 'Scheduler Unit test', 'Scheduler Unit test',\n",
       "       'Scheduler Unit test', 'Scheduler Unit test', 'Scheduler Unit test',\n",
       "       'Scheduler Unit test',\n",
       "       'check availability sys entries after inserting corectl',\n",
       "       'corectl should bring all isolated CPU online immediately cat sysdevicessystemcpucpuXcorectltaskthresh',\n",
       "       'Total Load CPU Total Load CPU Total Load Total Load',\n",
       "       'Total Load CPU Total Load CPU Total Load Total Load',\n",
       "       'Check from ftracesystrace task placement corecntrl and frequency selection are expected',\n",
       "       'Check from ftracesystrace task placement corecntrl and frequency selection are expected',\n",
       "       'Check from ftracesystrace task placement corecntrl and frequency selection are expected',\n",
       "       'Check from ftracesystrace task placement corecntrl and frequency selection are expected',\n",
       "       'Check from ftracesystrace task placement corecntrl and frequency selection are expected',\n",
       "       'Check from ftracesystrace task placement corecntrl and frequency selection are expected',\n",
       "       'Check from ftracesystrace task placement corecntrl and frequency selection are expected',\n",
       "       'Check from ftracesystrace task placement corecntrl and frequency selection are expected',\n",
       "       'Check from ftracesystrace task placement corecntrl and frequency selection are expected',\n",
       "       'Check from ftracesystrace task placement corecntrl and frequency selection are expected',\n",
       "       'Check from ftracesystrace task placement corecntrl and frequency selection are expected',\n",
       "       'Check from ftracesystrace task placement corecntrl and frequency selection are expected',\n",
       "       'Check from ftracesystrace task placement corecntrl and frequency selection are expected',\n",
       "       'Check from ftracesystrace task placement corecntrl and frequency selection are expected',\n",
       "       'Check from ftracesystrace task placement corecntrl and frequency selection are expected',\n",
       "       'Check from ftracesystrace task placement corecntrl and frequency selection are expected',\n",
       "       'Validate Random Canary Value across back back boot test',\n",
       "       'Verify that config flags proper SELINUX are enabled',\n",
       "       'Verify that config flags proper SECCOMP are enabled',\n",
       "       'Verify that config flags for stack protection are enabled',\n",
       "       'Verify that config flags for Memory Dep are enabled',\n",
       "       'Verify that config flags for Random base enabled',\n",
       "       'Removal proctimerstats',\n",
       "       'hwirq number used get descriptor for irq gicshowresumeirq function which returns incorrect irq descriptor',\n",
       "       'verify meminfo logs from dmesg',\n",
       "       'verify DUT boots with short power key press',\n",
       "       'verify Fast Power offon works from settings Developer options Quickboot',\n",
       "       'verify DUT vibrates bootup',\n",
       "       'verify DUT vibrates with USB connected',\n",
       "       'verify DUT vibrates bootup with USB connected',\n",
       "       'verify DUT vibrates issuing adb reboot bootloader adb reboot recovery once device comes fastboot recovery mode',\n",
       "       'verify vol Vol moves DUT emergency download mode',\n",
       "       'verify devices are enumerating fastboot mode',\n",
       "       'verify the device boot shell that confirms these are good',\n",
       "       'verify are able download dump from USB when its download mode',\n",
       "       'verify the device boot shell that confirms these are good',\n",
       "       'verify flashing splash partition and see image changed',\n",
       "       'verify fastboot continue and reboot bootup the DUT',\n",
       "       'Crash device and see goes download mode',\n",
       "       'verify Power key Vol moves DUT fastboot mode',\n",
       "       'verify Power key Vol moves DUT recovery mode',\n",
       "       'check device loaded with signed boot images and unlock state booting with ORANGE state',\n",
       "       'Check kernel decompressed', 'verify fastboot reboot working not',\n",
       "       'Verify fastboot oem verified command',\n",
       "       'Verify reboot EDL using adb command adb reboot edl',\n",
       "       'erase apps images from UEFILK',\n",
       "       'switch between slots setting slots active using bootctl',\n",
       "       'mark slot successful using bootctl',\n",
       "       'test slot suffixes are returned from bootctlensure they are returned without any meta character preceeded',\n",
       "       'verify new fastboot command lock',\n",
       "       'verify new fastboot command unlock',\n",
       "       'verify new fastboot command lockcritical',\n",
       "       'verify new fastboot command unlockcritical',\n",
       "       'verify new fastboot command flash getunlockability',\n",
       "       'selecting Yes device has moved recovery wipe data',\n",
       "       'selecting device restarts', 'active slot',\n",
       "       'Flash builds NonAB partition META and ensure doesnt break',\n",
       "       'Flash NONab builds partition META and ensure doesnt break',\n",
       "       'Flash NONab builds NONab based partition Meta',\n",
       "       'verify fastboot getvar secure', 'verify fastboot getvar variant',\n",
       "       'verify fastboot getvar batteryvoltage', 'partitiontypeuserdata',\n",
       "       'verify fastboot getvar batterysocok', 'fastboot getvar all',\n",
       "       'check the current fastboot hash slot', 'active slotretrycounta',\n",
       "       'slotunbootablea', 'slotunbootableb yes',\n",
       "       'getvarslotunbootablec FAILED remote unknown command finished total time',\n",
       "       'check hash slot for boot', 'check hash slot for system',\n",
       "       'Check hash slot for recovery', 'partitiontypecache',\n",
       "       'partitiontypesystem', 'device should bootup fine', 'time should',\n",
       "       'check device loaded with signed boot images and unlock state booting with ORANGE state',\n",
       "       'Run LTP stress suite and check for crashes',\n",
       "       'Cacheblast pegged each CPU exercise LPMs with load',\n",
       "       'Verify handling hotplugging during high load network traffic',\n",
       "       'verify that client using unfixedsize slice able allocate amount data beyond the one specified the SCT',\n",
       "       'DMverity should block from corrupting system partition',\n",
       "       'device should fail boot',\n",
       "       'minidump extracted logs should give the same context the full dump',\n",
       "       'ensure the dmesg extracted fine from minidumo',\n",
       "       'ensure the reset register data extracted fine from minidumo',\n",
       "       'check context from mini dump and compare will context full dump',\n",
       "       'ensure that dcc data extracted from minidump',\n",
       "       'ensure that tmcetr and tmcetf logs are properly extracted',\n",
       "       'ensure RPM NPAstatsVoltagesubsystem and DDR info are extracted from minidump crashscope report',\n",
       "       'Scheduler Functional Test measure latency for top processes that disables irq',\n",
       "       'Scheduler Functional Test measure preempt off latency',\n",
       "       'verify that client using fixedsize slice able allocate only the amount data specified the SCT',\n",
       "       'Verify functioning activationdeactivation and allocation data for different slices and clients',\n",
       "       'Get bootup time for all subsytems device',\n",
       "       'perform suspend resume MSM suspend should take over the dial resume MSM should wake',\n",
       "       'Check modem ssr dump collection success even after MBAmodem version rollback update',\n",
       "       'Remount firmware with Modem SSR concurrency ramdump enabled',\n",
       "       'perform hotplug and schedupmigrate simultaneously ensure that lockup observed',\n",
       "       'customer reported issue when BIG CPUs are not going offline when battcapacity',\n",
       "       'Start new task Make run for scheduler windows the window add task colocation group',\n",
       "       'Core control functional test',\n",
       "       'configure the maxcpus bug cluster from now create for BIG Tasks still one big CPU should still isolated',\n",
       "       'Increase the taskthres greater than bug tasks should see BIG CPU are brought ACTIVE one one from isolation state',\n",
       "       'corectl should wait for offlinedelay before moving cpu isolation',\n",
       "       '\\ufeffSupport Resolution Based Perflocks This required for supporting different boost settings for FHD and QHD resolutionsbr',\n",
       "       'Total Load CPU Total Load CPU Total Load Total Load',\n",
       "       'Total Load CPU Total Load CPU Total Load Total Load',\n",
       "       'Total Load CPU Total Load CPU Total Load Total Load',\n",
       "       'Objective This test case will CPU hotplug online and offline',\n",
       "       'functionality this tunable', 'functionality this tunable',\n",
       "       'Disable core controlLoad all CPUs BIG workload and include timers and irqs for some time then isolate big cores',\n",
       "       'set busyupthres and busydownthres create task with load',\n",
       "       'set minfreq all available frequencies set currfreq all available frequencies changes governors all supported governors',\n",
       "       'runs tjbench with different jpeg imagesit benchmark the performance libjpegturbo',\n",
       "       'runs different malloc opensource benchmarks perform usespace memory allocations',\n",
       "       'runs vfpffmpeg multimedia benchmark test',\n",
       "       'performs vmtouch different directories and files',\n",
       "       'Objective Check dev node returning nonzero while doing cat',\n",
       "       'checks procdevicetree and procdevicetreemodel are present',\n",
       "       'offline and online cores and assign task respective when offline and online using taskset',\n",
       "       'runs pointertaggingtests tests', 'runs posixtimers tests', 'Test',\n",
       "       'Test', 'Test', 'Test starve test', 'Test migratetime',\n",
       "       'Fuzz different dev nodes',\n",
       "       'this perform stress test giving entire virtual memory',\n",
       "       'File system stress', 'This test will stress the device for',\n",
       "       'File system benchmark', 'Stressng test will stress the system',\n",
       "       'performs kernel stress for', 'boot with red state',\n",
       "       'boot with yellow state',\n",
       "       'fastboot flash bootlloader bootloaderimg',\n",
       "       'should switch other slot',\n",
       "       'should able load kernel from fastboot cmdline',\n",
       "       'device should fastboot device should showing',\n",
       "       'device should move other slot', 'device should bootup fine',\n",
       "       'Sends contents filename the device for use the next command',\n",
       "       'Ensure that flashing blocked when Batt charge',\n",
       "       'corrupt dtbo image header total size header size and dtentry sizes are modified',\n",
       "       'Both socdtb and overlaydtbs are present and valid but socdtb contains all the info required for booting',\n",
       "       'device fails boot soc dtb doesnt contain board dtb specific inputs',\n",
       "       'Device boot fails',\n",
       "       'SOC information available SOC should take from',\n",
       "       'SOC does not contain board variant and but Board DTBO contains Device boots',\n",
       "       'Generate complete dtb file information using host tool for SOC dtb and Board DTB',\n",
       "       'Compile the DLKM with and configurations',\n",
       "       'minidump collected emmc should persist after multiple crashes shouldnt overwrittencorrupted deleted',\n",
       "       'memory read latency benchmark',\n",
       "       'Measure average latency for DDR clock ramp',\n",
       "       'Measure average latency for DDR clock ramp down',\n",
       "       'Measure the reaction time BUS DCVS',\n",
       "       'Coresight Trace Driver Adversarial Test',\n",
       "       'device should not crash',\n",
       "       'SMMU test with stress option random attach detach map unmap faults',\n",
       "       'memory profile test datakerneltests with stress option',\n",
       "       'Trigger force Crash and ensure RAMDUMP collected',\n",
       "       'perform firmware mountunmount while SSR performed concurrently',\n",
       "       'perform SSR with ramdump enabled for multiple iterations',\n",
       "       'Play audio upon every LPASS boot and perform SSR LPASS loop',\n",
       "       'Audio and WLAN restart loop',\n",
       "       'Loading and unloading Venus subsystem with low memory conditionCMA based',\n",
       "       'Audio playback along with Audio restart loop',\n",
       "       'During SSR each subsystem file system should mountedunmounted cause blob loading failure',\n",
       "       'SSR each subsystem',\n",
       "       'QXDM based modem camping and simultaneous SSR',\n",
       "       'QXDM based modem camping and simultaneous WLAN restart',\n",
       "       'Remove Subsystem blob and reboot',\n",
       "       'SELinux violations should seen', 'Core control functional test',\n",
       "       'CPUs should get offlined',\n",
       "       'The isolated CPUs should into power collapse',\n",
       "       'Only big CPUs should active trace events for inactive cpus',\n",
       "       'Second CPU should come online', 'Should offline cpu',\n",
       "       'user should forbidden from updating downthres upthres',\n",
       "       'schedisolated iso should better than bring CPU online from deep cstate',\n",
       "       'Fuzzing Sched CPUBus DCVS tunables using filemonkey with CPUBUS load using rtapp',\n",
       "       'fastboot images continously for iterations issuing reboot between each iteration',\n",
       "       'device shouldnt bootup', 'device shouldnt bootup'], dtype=object)"
      ]
     },
     "execution_count": 23,
     "metadata": {},
     "output_type": "execute_result"
    }
   ],
   "source": [
    "doc"
   ]
  },
  {
   "cell_type": "code",
   "execution_count": 24,
   "metadata": {
    "collapsed": false
   },
   "outputs": [],
   "source": [
    "#writer=pd.ExcelWriter('data1.xlsx')\n",
    "#data.to_excel(writer,'Sheet1')\n",
    "#writer.save()"
   ]
  },
  {
   "cell_type": "code",
   "execution_count": 25,
   "metadata": {
    "collapsed": false
   },
   "outputs": [],
   "source": [
    "from sklearn.feature_extraction.text import TfidfVectorizer\n",
    "from nltk.stem.porter import PorterStemmer\n",
    "#from stemming.porter2 import stem\n",
    "\n",
    "token_dict = {}\n",
    "stemmer = PorterStemmer()\n",
    "\n",
    "\n",
    "def stem_tokens(tokens, stemmer):\n",
    "    stemmed = []\n",
    "    for item in tokens:\n",
    "        stemmed.append(stemmer.stem(item))\n",
    "        #stemmed.append(stem(item))    \n",
    "    return stemmed\n",
    "\n",
    "def tokenize(text):\n",
    "    tokens = nltk.word_tokenize(text)\n",
    "    stems = stem_tokens(tokens, stemmer)\n",
    "    return stems\n",
    "\n",
    "        \n",
    "tfidf = TfidfVectorizer(norm='l1',analyzer='word',tokenizer = tokenize,stop_words='english')\n",
    "tfs = tfidf.fit_transform(doc)"
   ]
  },
  {
   "cell_type": "code",
   "execution_count": 26,
   "metadata": {
    "collapsed": false
   },
   "outputs": [
    {
     "data": {
      "text/plain": [
       "1011"
      ]
     },
     "execution_count": 26,
     "metadata": {},
     "output_type": "execute_result"
    }
   ],
   "source": [
    "len(tfidf.get_feature_names())"
   ]
  },
  {
   "cell_type": "code",
   "execution_count": null,
   "metadata": {
    "collapsed": true
   },
   "outputs": [],
   "source": []
  },
  {
   "cell_type": "code",
   "execution_count": 27,
   "metadata": {
    "collapsed": false
   },
   "outputs": [
    {
     "name": "stdout",
     "output_type": "stream",
     "text": [
      "  (0, 635)\t0.144699499471\n",
      "  (0, 445)\t0.251354341228\n",
      "  (0, 598)\t0.236533157209\n",
      "  (0, 836)\t0.211196175779\n",
      "  (0, 167)\t0.156216826313\n"
     ]
    }
   ],
   "source": [
    "print(tfs[:1])"
   ]
  },
  {
   "cell_type": "code",
   "execution_count": 28,
   "metadata": {
    "collapsed": false
   },
   "outputs": [],
   "source": [
    "from sklearn.decomposition import PCA\n",
    "from sklearn.decomposition import TruncatedSVD"
   ]
  },
  {
   "cell_type": "code",
   "execution_count": 29,
   "metadata": {
    "collapsed": false
   },
   "outputs": [],
   "source": [
    "#print(tfidf.get_feature_names())"
   ]
  },
  {
   "cell_type": "code",
   "execution_count": 30,
   "metadata": {
    "collapsed": false
   },
   "outputs": [],
   "source": [
    "#tfidf.get_feature_names()"
   ]
  },
  {
   "cell_type": "code",
   "execution_count": null,
   "metadata": {
    "collapsed": true
   },
   "outputs": [],
   "source": []
  },
  {
   "cell_type": "code",
   "execution_count": 31,
   "metadata": {
    "collapsed": false
   },
   "outputs": [
    {
     "data": {
      "text/plain": [
       "1011"
      ]
     },
     "execution_count": 31,
     "metadata": {},
     "output_type": "execute_result"
    }
   ],
   "source": [
    "len(tfidf.vocabulary_)"
   ]
  },
  {
   "cell_type": "code",
   "execution_count": 32,
   "metadata": {
    "collapsed": false
   },
   "outputs": [
    {
     "name": "stdout",
     "output_type": "stream",
     "text": [
      "  (0, 635)\t0.144699499471\n",
      "  (0, 445)\t0.251354341228\n",
      "  (0, 598)\t0.236533157209\n",
      "  (0, 836)\t0.211196175779\n",
      "  (0, 167)\t0.156216826313\n"
     ]
    }
   ],
   "source": [
    "print(tfs[0])"
   ]
  },
  {
   "cell_type": "code",
   "execution_count": 33,
   "metadata": {
    "collapsed": false
   },
   "outputs": [
    {
     "data": {
      "text/plain": [
       "array(['perform IPC operation specified core', 'From StressTestFramework',\n",
       "       'perform hotplug for all available cpus'], dtype=object)"
      ]
     },
     "execution_count": 33,
     "metadata": {},
     "output_type": "execute_result"
    }
   ],
   "source": [
    "doc[:3]"
   ]
  },
  {
   "cell_type": "code",
   "execution_count": 34,
   "metadata": {
    "collapsed": true
   },
   "outputs": [],
   "source": [
    "data = tfs.toarray()"
   ]
  },
  {
   "cell_type": "code",
   "execution_count": 35,
   "metadata": {
    "collapsed": false
   },
   "outputs": [],
   "source": [
    "reduced_data = PCA(n_components=100).fit_transform(data)"
   ]
  },
  {
   "cell_type": "code",
   "execution_count": 36,
   "metadata": {
    "collapsed": false
   },
   "outputs": [],
   "source": [
    "r_Data=TruncatedSVD(n_components=100).fit_transform(tfs)"
   ]
  },
  {
   "cell_type": "code",
   "execution_count": 37,
   "metadata": {
    "collapsed": false
   },
   "outputs": [],
   "source": [
    "#print(tfs)"
   ]
  },
  {
   "cell_type": "code",
   "execution_count": 38,
   "metadata": {
    "collapsed": false
   },
   "outputs": [],
   "source": [
    "import sklearn\n",
    "from sklearn.cluster import SpectralClustering\n",
    "model = SpectralClustering(n_clusters=10, affinity = sklearn.metrics.pairwise.cosine_similarity)"
   ]
  },
  {
   "cell_type": "code",
   "execution_count": null,
   "metadata": {
    "collapsed": true
   },
   "outputs": [],
   "source": []
  },
  {
   "cell_type": "code",
   "execution_count": 39,
   "metadata": {
    "collapsed": true
   },
   "outputs": [],
   "source": [
    "from nltk.cluster.kmeans import KMeansClusterer\n",
    "kclusterer = KMeansClusterer(3, distance=sklearn.metrics.pairwise.cosine_similarity, repeats=50)\n",
    "#clusters = kclusterer.cluster(r_Data,True, trace=True)"
   ]
  },
  {
   "cell_type": "code",
   "execution_count": 40,
   "metadata": {
    "collapsed": false
   },
   "outputs": [
    {
     "data": {
      "text/plain": [
       "KMeans(algorithm='full', copy_x=True, init='k-means++', max_iter=1000,\n",
       "    n_clusters=10, n_init=10, n_jobs=1, precompute_distances=True,\n",
       "    random_state=None, tol=0.0001, verbose=0)"
      ]
     },
     "execution_count": 40,
     "metadata": {},
     "output_type": "execute_result"
    }
   ],
   "source": [
    "true_k = 10\n",
    "model = KMeans(n_clusters=10, init='k-means++', max_iter=1000,algorithm='full',precompute_distances=True)\n",
    "model.fit(reduced_data)"
   ]
  },
  {
   "cell_type": "code",
   "execution_count": 41,
   "metadata": {
    "collapsed": false
   },
   "outputs": [
    {
     "data": {
      "text/plain": [
       "array([9, 9, 9, 9, 9, 9, 9, 9, 9, 9, 9, 9, 9, 9, 9, 2, 2, 2, 2, 2, 9, 6])"
      ]
     },
     "execution_count": 41,
     "metadata": {},
     "output_type": "execute_result"
    }
   ],
   "source": [
    "model.labels_[209:231] "
   ]
  },
  {
   "cell_type": "code",
   "execution_count": null,
   "metadata": {
    "collapsed": true
   },
   "outputs": [],
   "source": []
  },
  {
   "cell_type": "code",
   "execution_count": 42,
   "metadata": {
    "collapsed": false
   },
   "outputs": [
    {
     "data": {
      "text/plain": [
       "array([[  0,  34],\n",
       "       [  1,  17],\n",
       "       [  2,  10],\n",
       "       [  3,   5],\n",
       "       [  4,  36],\n",
       "       [  5,   3],\n",
       "       [  6,  26],\n",
       "       [  7,   8],\n",
       "       [  8,  10],\n",
       "       [  9, 563]], dtype=int64)"
      ]
     },
     "execution_count": 42,
     "metadata": {},
     "output_type": "execute_result"
    }
   ],
   "source": [
    "itemfreq(model.labels_)"
   ]
  },
  {
   "cell_type": "code",
   "execution_count": 43,
   "metadata": {
    "collapsed": false
   },
   "outputs": [],
   "source": [
    "#{i: np.where(model.labels_ == i)[0] for i in range(model.n_clusters)}"
   ]
  },
  {
   "cell_type": "markdown",
   "metadata": {},
   "source": [
    "### MiniBatchKmeans"
   ]
  },
  {
   "cell_type": "code",
   "execution_count": 44,
   "metadata": {
    "collapsed": false
   },
   "outputs": [],
   "source": [
    "km = MiniBatchKMeans(n_clusters = 10, init='k-means++', n_init=1, batch_size=100, verbose=1)"
   ]
  },
  {
   "cell_type": "code",
   "execution_count": 45,
   "metadata": {
    "collapsed": false
   },
   "outputs": [
    {
     "name": "stdout",
     "output_type": "stream",
     "text": [
      "Init 1/1 with method: k-means++\n",
      "Inertia for init 1/1: 44.046227\n",
      "Minibatch iteration 1/800: mean batch inertia: 0.173111, ewa inertia: 0.173111 \n",
      "Minibatch iteration 2/800: mean batch inertia: 0.147990, ewa inertia: 0.166065 \n",
      "Minibatch iteration 3/800: mean batch inertia: 0.130294, ewa inertia: 0.156031 \n",
      "Minibatch iteration 4/800: mean batch inertia: 0.136359, ewa inertia: 0.150513 \n",
      "Minibatch iteration 5/800: mean batch inertia: 0.144415, ewa inertia: 0.148802 \n",
      "Minibatch iteration 6/800: mean batch inertia: 0.128136, ewa inertia: 0.143005 \n",
      "Minibatch iteration 7/800: mean batch inertia: 0.134352, ewa inertia: 0.140578 \n",
      "Minibatch iteration 8/800: mean batch inertia: 0.121643, ewa inertia: 0.135267 \n",
      "Minibatch iteration 9/800: mean batch inertia: 0.149700, ewa inertia: 0.139315 \n",
      "Minibatch iteration 10/800: mean batch inertia: 0.136457, ewa inertia: 0.138514 \n",
      "[MiniBatchKMeans] Reassigning 5 cluster centers.\n",
      "Minibatch iteration 11/800: mean batch inertia: 0.164546, ewa inertia: 0.145816 \n",
      "Minibatch iteration 12/800: mean batch inertia: 0.110928, ewa inertia: 0.136030 \n",
      "Minibatch iteration 13/800: mean batch inertia: 0.145018, ewa inertia: 0.138551 \n",
      "Minibatch iteration 14/800: mean batch inertia: 0.137894, ewa inertia: 0.138366 \n",
      "Minibatch iteration 15/800: mean batch inertia: 0.134167, ewa inertia: 0.137189 \n",
      "Minibatch iteration 16/800: mean batch inertia: 0.140344, ewa inertia: 0.138074 \n",
      "Minibatch iteration 17/800: mean batch inertia: 0.162337, ewa inertia: 0.144880 \n",
      "Minibatch iteration 18/800: mean batch inertia: 0.125628, ewa inertia: 0.139480 \n",
      "Converged (lack of improvement in inertia) at iteration 18/800\n",
      "Computing label assignment and total inertia\n"
     ]
    }
   ],
   "source": [
    "km.fit(r_Data)\n",
    "labels = km.labels_"
   ]
  },
  {
   "cell_type": "code",
   "execution_count": 46,
   "metadata": {
    "collapsed": false
   },
   "outputs": [
    {
     "data": {
      "text/plain": [
       "array([[  0,  36],\n",
       "       [  1,  17],\n",
       "       [  2, 587],\n",
       "       [  4,  34],\n",
       "       [  5,  17],\n",
       "       [  6,  10],\n",
       "       [  7,   1],\n",
       "       [  8,   7],\n",
       "       [  9,   3]], dtype=int64)"
      ]
     },
     "execution_count": 46,
     "metadata": {},
     "output_type": "execute_result"
    }
   ],
   "source": [
    "itemfreq(labels)"
   ]
  },
  {
   "cell_type": "markdown",
   "metadata": {},
   "source": [
    "## Top words in cluster"
   ]
  },
  {
   "cell_type": "code",
   "execution_count": 47,
   "metadata": {
    "collapsed": false
   },
   "outputs": [
    {
     "name": "stdout",
     "output_type": "stream",
     "text": [
      "Top terms per cluster:\n",
      "Cluster 0:\n",
      " abil\n",
      " abnorm\n",
      " abl\n",
      " adsp\n",
      " adb\n",
      " affin\n",
      " android\n",
      " action\n",
      " attempt\n",
      " add\n",
      "Cluster 1:\n",
      " abov\n",
      " activ\n",
      " addit\n",
      " affin\n",
      " address\n",
      " accord\n",
      " ani\n",
      " android\n",
      " arm\n",
      " bire\n",
      "Cluster 2:\n",
      " abl\n",
      " abov\n",
      " accept\n",
      " activelow\n",
      " affin\n",
      " adversari\n",
      " addit\n",
      " accord\n",
      " access\n",
      " align\n",
      "Cluster 3:\n",
      " abov\n",
      " activationdeactiv\n",
      " addit\n",
      " action\n",
      " abil\n",
      " befor\n",
      " blob\n",
      " affin\n",
      " attribut\n",
      " attachdetach\n",
      "Cluster 4:\n",
      " abil\n",
      " addit\n",
      " adversari\n",
      " affect\n",
      " abl\n",
      " audio\n",
      " background\n",
      " arm\n",
      " ani\n",
      " atb\n",
      "Cluster 5:\n",
      " abov\n",
      " abil\n",
      " add\n",
      " adversari\n",
      " activelow\n",
      " ad\n",
      " affect\n",
      " accord\n",
      " accept\n",
      " align\n",
      "Cluster 6:\n",
      " activelow\n",
      " addit\n",
      " ad\n",
      " affin\n",
      " address\n",
      " accord\n",
      " avoid\n",
      " attempt\n",
      " align\n",
      " batterysocok\n",
      "Cluster 7:\n",
      " address\n",
      " adversari\n",
      " affin\n",
      " activ\n",
      " adb\n",
      " align\n",
      " activationdeactiv\n",
      " aggregatedgroupthr\n",
      " action\n",
      " ani\n",
      "Cluster 8:\n",
      " activelow\n",
      " activationdeactiv\n",
      " activ\n",
      " addit\n",
      " affin\n",
      " adversari\n",
      " action\n",
      " busydownthr\n",
      " cach\n",
      " adsp\n",
      "Cluster 9:\n",
      " add\n",
      " access\n",
      " accept\n",
      " affect\n",
      " adsp\n",
      " adb\n",
      " attach\n",
      " activationdeactiv\n",
      " arg\n",
      " ato\n"
     ]
    }
   ],
   "source": [
    "print(\"Top terms per cluster:\")\n",
    "order_centroids = model.cluster_centers_.argsort()[:, ::-1]\n",
    "terms = tfidf.get_feature_names()\n",
    "for i in range(true_k):\n",
    "    print(\"Cluster %d:\" % i,)\n",
    "    for ind in order_centroids[i, :10]:\n",
    "        print(' %s' % terms[ind],)\n",
    "    print\n",
    "from __future__ import print_function\n",

"print("Top terms per cluster:")\n",
"print()\n",
"#sort cluster centers by proximity to centroid\n",
"order_centroids = model.cluster_centers_.argsort()[:, ::-1] \n",

"for i in range(true_k):\n",
    "print("Cluster %d words:" % i, end='')\n",
    
    "for ind in order_centroids[i, :6]: #replace 6 with n words per cluster\n",
        "print(' %s' % vocab_frame.ix[terms[ind].split(' ')].values.tolist()[0][0].encode('utf-8', 'ignore'), end=',')\n",
    "print() #add whitespace\n",
    "print() #add whitespace\n",
    
    "print("Cluster %d titles:" % i, end='')\n",
    "for title in frame.ix[i]['title'].values.tolist():\n",
        "print(' %s,' % title, end='')\n",
    "print() #add whitespace\n",
    "print() #add whitespace\n",
    
"print()\n",
"print()"
   ]
  },
  {
   "cell_type": "markdown",
   "metadata": {},
   "source": [
    "## Agglomerative clustering"
   ]
  },
  {
   "cell_type": "code",
   "execution_count": 48,
   "metadata": {
    "collapsed": true
   },
   "outputs": [],
   "source": [
    "from math import sqrt\n",
    "\n",
    "\n",
    "def dot_product(v1, v2):\n",
    "    \"\"\"Get the dot product of the two vectors.\n",
    "    if A = [a1, a2, a3] && B = [b1, b2, b3]; then\n",
    "    dot_product(A, B) == (a1 * b1) + (a2 * b2) + (a3 * b3)\n",
    "    true\n",
    "    Input vectors must be the same length.\n",
    "    \"\"\"\n",
    "    return sum(a * b for a, b in zip(v1, v2))\n",
    "\n",
    "\n",
    "def magnitude(vector):\n",
    "    \"\"\"Returns the numerical length / magnitude of the vector.\"\"\"\n",
    "    return sqrt(dot_product(vector, vector))\n",
    "\n",
    "\n",
    "def similarity(v1, v2):\n",
    "    \"\"\"Ratio of the dot product & the product of the magnitudes of vectors.\"\"\"\n",
    "    return dot_product(v1, v2) / (magnitude(v1) * magnitude(v2) + .00000000001)"
   ]
  },
  {
   "cell_type": "code",
   "execution_count": null,
   "metadata": {
    "collapsed": true
   },
   "outputs": [],
   "source": []
  },
  {
   "cell_type": "code",
   "execution_count": null,
   "metadata": {
    "collapsed": true
   },
   "outputs": [],
   "source": []
  },
  {
   "cell_type": "code",
   "execution_count": 56,
   "metadata": {
    "collapsed": true
   },
   "outputs": [],
   "source": [
    "from sklearn.metrics.pairwise import cosine_similarity\n",
    "from sklearn.cluster import AgglomerativeClustering\n"
   ]
  },
  {
   "cell_type": "code",
   "execution_count": 57,
   "metadata": {
    "collapsed": false
   },
   "outputs": [
    {
     "data": {
      "text/plain": [
       "100"
      ]
     },
     "execution_count": 57,
     "metadata": {},
     "output_type": "execute_result"
    }
   ],
   "source": [
    "len(reduced_data[0])"
   ]
  },
  {
   "cell_type": "code",
   "execution_count": 58,
   "metadata": {
    "collapsed": false
   },
   "outputs": [],
   "source": [
    "C = 1 - cosine_similarity(reduced_data)\n",
    "ward = AgglomerativeClustering(n_clusters=10,linkage='complete',affinity='cosine').fit(r_Data)\n",
    "label = ward.labels_"
   ]
  },
  {
   "cell_type": "code",
   "execution_count": 59,
   "metadata": {
    "collapsed": false
   },
   "outputs": [
    {
     "data": {
      "text/plain": [
       "array([[  0,   1],\n",
       "       [  1, 306],\n",
       "       [  4,  76],\n",
       "       [  5, 165],\n",
       "       [  7, 117],\n",
       "       [  9,  47]], dtype=int64)"
      ]
     },
     "execution_count": 59,
     "metadata": {},
     "output_type": "execute_result"
    }
   ],
   "source": [
    "itemfreq(label)"
   ]
  },
  {
   "cell_type": "markdown",
   "metadata": {
    "collapsed": true
   },
   "source": [
    "### DBSCAN ALgorithm "
   ]
  },
  {
   "cell_type": "code",
   "execution_count": 60,
   "metadata": {
    "collapsed": true
   },
   "outputs": [],
   "source": [
    "from sklearn.cluster import DBSCAN"
   ]
  },
  {
   "cell_type": "code",
   "execution_count": 61,
   "metadata": {
    "collapsed": false
   },
   "outputs": [],
   "source": [
    "db = DBSCAN(eps=0.19, min_samples=10).fit(r_Data)"
   ]
  },
  {
   "cell_type": "code",
   "execution_count": 62,
   "metadata": {
    "collapsed": false
   },
   "outputs": [],
   "source": [
    "labels =db.labels_"
   ]
  },
  {
   "cell_type": "code",
   "execution_count": 63,
   "metadata": {
    "collapsed": false
   },
   "outputs": [
    {
     "data": {
      "text/plain": [
       "array([-1,  0,  1,  2,  3,  4], dtype=int64)"
      ]
     },
     "execution_count": 63,
     "metadata": {},
     "output_type": "execute_result"
    }
   ],
   "source": [
    "np.unique(labels)"
   ]
  },
  {
   "cell_type": "code",
   "execution_count": 64,
   "metadata": {
    "collapsed": false
   },
   "outputs": [
    {
     "data": {
      "text/plain": [
       "array([[ -1, 423],\n",
       "       [  0,  10],\n",
       "       [  1, 193],\n",
       "       [  2,  36],\n",
       "       [  3,  34],\n",
       "       [  4,  16]], dtype=int64)"
      ]
     },
     "execution_count": 64,
     "metadata": {},
     "output_type": "execute_result"
    }
   ],
   "source": [
    "itemfreq(labels)"
   ]
  },
  {
   "cell_type": "code",
   "execution_count": 65,
   "metadata": {
    "collapsed": true
   },
   "outputs": [],
   "source": [
    "from sklearn.cluster import FeatureAgglomeration"
   ]
  },
  {
   "cell_type": "code",
   "execution_count": 66,
   "metadata": {
    "collapsed": false
   },
   "outputs": [
    {
     "data": {
      "text/plain": [
       "100"
      ]
     },
     "execution_count": 66,
     "metadata": {},
     "output_type": "execute_result"
    }
   ],
   "source": [
    "len(r_Data[0])"
   ]
  },
  {
   "cell_type": "code",
   "execution_count": 67,
   "metadata": {
    "collapsed": false
   },
   "outputs": [],
   "source": [
    "#data = FeatureAgglomeration(affinity='cosine',n_clusters=10,linkage='complete').fit_transform(data)"
   ]
  },
  {
   "cell_type": "code",
   "execution_count": 68,
   "metadata": {
    "collapsed": false
   },
   "outputs": [],
   "source": [
    "db=FeatureAgglomeration(affinity='cosine',n_clusters=10,linkage='average').fit(r_Data)"
   ]
  },
  {
   "cell_type": "code",
   "execution_count": 69,
   "metadata": {
    "collapsed": false
   },
   "outputs": [
    {
     "data": {
      "text/plain": [
       "array([0, 0, 0, 0, 0, 0, 1, 0, 0, 0, 0, 0, 0, 0, 0, 0, 0, 0, 0, 0, 0, 1, 0,\n",
       "       0, 0, 0, 0, 0, 0, 0, 0, 0, 0, 0, 0, 0, 0, 0, 0, 0, 0, 0, 0, 0, 0, 1,\n",
       "       1, 0, 1, 0, 0, 0, 0, 0, 0, 0, 0, 3, 5, 0, 4, 0, 4, 0, 0, 4, 0, 0, 0,\n",
       "       5, 3, 0, 0, 0, 6, 7, 0, 0, 0, 0, 2, 6, 7, 6, 0, 0, 2, 9, 5, 7, 8, 0,\n",
       "       3, 8, 5, 8, 3, 0, 0, 2], dtype=int64)"
      ]
     },
     "execution_count": 69,
     "metadata": {},
     "output_type": "execute_result"
    }
   ],
   "source": [
    "db.labels_"
   ]
  },
  {
   "cell_type": "code",
   "execution_count": 70,
   "metadata": {
    "collapsed": false
   },
   "outputs": [
    {
     "data": {
      "text/plain": [
       "array([-1,  0,  1,  2,  3,  4], dtype=int64)"
      ]
     },
     "execution_count": 70,
     "metadata": {},
     "output_type": "execute_result"
    }
   ],
   "source": [
    "np.unique(labels)"
   ]
  },
  {
   "cell_type": "code",
   "execution_count": 71,
   "metadata": {
    "collapsed": false
   },
   "outputs": [
    {
     "data": {
      "text/plain": [
       "array([[ -1, 423],\n",
       "       [  0,  10],\n",
       "       [  1, 193],\n",
       "       [  2,  36],\n",
       "       [  3,  34],\n",
       "       [  4,  16]], dtype=int64)"
      ]
     },
     "execution_count": 71,
     "metadata": {},
     "output_type": "execute_result"
    }
   ],
   "source": [
    "itemfreq(labels)"
   ]
  },
  {
   "cell_type": "code",
   "execution_count": 72,
   "metadata": {
    "collapsed": false
   },
   "outputs": [
    {
     "data": {
      "image/png": "iVBORw0KGgoAAAANSUhEUgAAAWQAAAEKCAYAAAAl5S8KAAAABHNCSVQICAgIfAhkiAAAAAlwSFlz\nAAALEgAACxIB0t1+/AAAIABJREFUeJzt3Xu8VGW9x/HPD+TOBkS2iG4UESFBMMyjm7yA5klBzNQ8\naaZ5Qa2stDya2lGUY1F5CY9pmXo0tSwVNfVo2kUoFELDCwJhoBgbuYZcxAuaz/njedbsNbNnZs/G\nvfc8e8/3/Xrt1551mbWeNWvNd571rDXPmHMOEREpvw7lLoCIiHgKZBGRSCiQRUQioUAWEYmEAllE\nJBIKZBGRSCiQK4iZzTKz0yIoxzgzW9CCyz/XzK5pqeW3NDObZGYzWnmdh5vZsibM32LHkpldb2Zn\ntcSyY1dxgWxmy8zs8NTwiWb2ppmNLWe52ormCAvn3Azn3IhmKlIWM+sCXApcE4aHmJkzs7fC32tm\ndmFqfjOzb5rZAjPbYmZ1Znavme2ds9yrwnI+0RLlbs/CazquCU+5GrjMzLZroSJFq+ICOc3MvgTc\nCBzlnJtZ7vJUglZ4kx0HvOScW5Ue6Zzr6ZzrCZwCTEl9KN8IfBU4F9geGAo8DExIldnC89YDpzal\nMJUYKh+Vc64OWApMLHdZWlvFBrKZnQNcCxzhnHumyHyzzGyKmc0JNaiHzGwHM7vHzDaZ2V/MbNfU\n/MPN7Pdmtt7M/mZmx6emfcbMXgjP+4eZXZaaltTkTg01irVmdnFqeq2ZzQvPXW1mVxcp83Gp9Swx\ns0/nmecqM7sjd/2p4TPD2cRmM3s1nEmMBH4MHBxqm+vCvF3N7DozWx7KdpOZdQ3TDg/LudTMVgG3\n5J4eh+39lpnNN7ON4bXtkpp+iZmtMrMVZnZWeJ0GFdj88UDBD1fn3Czgb8DeZrYXcA7w+VBr3+qc\ne9s5d7dz7oeppx0K9APOB75gZp0KLd/Mtgvl+6qZLQnrauy4qDazR8P+mgPsXmi/hHFZzQVmdk5Y\n5mYze9nM9gnja8zswXAsvWZm56ae093M7jJ/drgAKFrzN7MjzWxx2D/XA5aatqeZPRW2bV1Ybu8w\n7R5gZ+DxcMx8y8w6mNn9YZ9uMLMZYV+kzQCOKlamdsk5V1F/wDJgOrAa2KeE+WcBi4HB+BrU38Lw\nocB2wC+BW8K8PYEV+FrUdviD/J/AsDD9MGAE/oNwH2AdMDFMGwI44KdAV2Bf4D1gzzD9WeCk8LgK\nOKBAeT8JbAA+FdYzMLX+WcBp4fFVwB2p5w3xh4MD6AVsTK17ADA8PJ4EzMhZ5w3Ag+H16QU8Bvx3\nmHY48AHwPaAz0C2MW5Z6fh0wB9gJ2AF4BZgUpk0E3gD2AnoA94TXaVCB7X8eOLbAdhlwMPAuMBb4\nGrC0hGPg52E/dwmv7TFF5t0ulO+34fXoVsJxcX/Yru7AKGBl8hqny59zTCb78SRgeVim4Wv4A8O+\nfwHffNM5LGcZ8KnwvGvwobc9sBuwML1Pcta3I/AWcCzQCbgw7NOkDEPxx1vnMO/TwDU5+3dcargD\ncBr+OO6K/5B/Lmed/wHMLXdetPZf2QvQ6hvsD8pNwG+ADiXMPwv4dmr4euCR1PCxycEEnAw8lfP8\n24DvFFj2j4Grw+MkkHdKTZ8HfC48fga4HNihkfLeliyzwLacFh43FsgbwrZ1zVlGViCHN9e7wG6p\ncQcDfw+PDw/TO6em5wvkE1PD1wE/Do/vJIR7GP4YxQP5NeDw3O0K2/MmsAg4N0ybDMxq5PXsGcIo\n+eC8DZheZP4kkA9JjSt4XOAD7gNgSGraDyk9kP+QbE/OPAcCr+aMu4z6ysM/cl6nr1I4kM9Iv05h\nn69MypBn/s8Bz+bs33FFXrN+4TXrkRo3Hnil2L5pj3+V2mTxFfyn+q2hfRAAM7vV6i/+XJSaf3Xq\n8Tt5hnuGx7sBB4bTsA1mtgH4PL6GiZmNCadna81sIz7c+qUL5rLbPt9OLft0YDiw2MzmmtkE8huI\nb3/bZs65Tfia17nAqnA6PbTA7Dvha44vprb5UXxNKbHaObe1kdUW2u6d8TXARPpxPm/ia15ZnHN9\nnHPbO+f2cs7dGEb/k7Bvijge/4HyRBj+BTDRzPoChNP45JgZU6CcxY6L/kDHnPlfb6RMaYX2927A\nrjnrvAi/vwjrLnWdWfvAOfchPmQBMLOdzF8IXWFmm4A7yDmu08yso5n9MDSFbQKWhEnp51ThP0Qr\nSqUG8mr8KdbBwE3JSOfcJBcu/rjsNsRSLQf+EN78yV9P59zXwvRf4ZtLBjrnegO3kmqLK8Y5t9g5\ndyI+6K4FpifttHnKsEcJi9yCP0VO7JSe6Jx73Dl3OP6NuwS4OZmUs5zVwFb86Xeyzb3D9lHgOU2x\nEqhJDQ9sZP6X8B+2pfgDMMjMRheZ50v4M4bloQ38Hvyp+UkAzrlhqWNmdup56W0udlysBj7M2a5d\nU4+3gG/zTY1L76tC+3s5/iwlvc4q59zRYfqqIuvMtTI9r5l1IHuf/ADfvDbSOdcL3xyRPq5z9/+p\n+IumhwG98WcB5DxnL+DFImVqlyo1kHHOvYEP5SPN7EfNtNiHgRFm9gUz6xT+9jezYWF6FbDeOfeu\nmdUCJ5a6YDM7xcz6hdrJRvxB/mGeWW8DJpnZoeHiSU1q/WkvAGPNbKCZ9QHSFxAHmNnRIQS24kMh\nWddqoCa5sOWc+xf+g2VauDhlYZ0NLiRuo3uBM81sWCjPZY3M/xi+fbhRzrlFwM+AX5vZWDPrbGbd\nwv670Mx2A8bhT58/Hv72wX8gNuVui4LHhXPufeAh4Mqw7r3xd3QkVoW/L4aa5dn42m/iVuAiMxsd\nXvs9zWwgMBvYamYXmL/o2tHMRlr9bXv3ApeaWR/zF6W/RmGPAh83s2PCfv8mUJ2aXoU/RjaGdf9n\nzvNX46/BpOd/D3+G0h34bp51jgUeL1KmdqliAxnAOfcP/Kf058xsajMsbyNwBPBFfK1iFTAVf0oP\nvqlkqpltxl9subcJi58ALArPvQZ/Z0CDZgDn7xg5C/gffHA/Rf5a5W/xF+LmA3PxoZHoiL9wsxL/\npvkkvvkC4HfA34HVocYIcAH+lHduWOeTwJ5N2LaCnHOPAD8B/hTW+3SY9F6BpzwEjDKznQpMz3Vu\nWP5P8M0dfwc+A/wfPhifdc79wTm3KvnDX0f4hJl9rMRtKOW42B4fXLcBt6ee6/D781L8ReAhwF9S\n0+/B11B/jb828gCwvXPuA/wxsz/+usk6/FlOr/DUyaEsy/DBd2eR8q/GN7FcHZaza7oMYVn74/f9\nw/izwLTv4T9wNpjZ+WH73gh/C/DXRzLMbBf88fNIoTK1VxYa0EXaBPO33s0DuoSzhXzzfBUY7JzL\nralJG2D+troFzrmflbssrU2BLNEzs2PxNdaewF3AO865z5W3VCLNr6KbLKTNOBd/qrwEf8fDucVn\nF2mbVEMWEYmEasgiIpFQIEfKfN8PtxaZntVrXSUw321nXeNzlrSsO8zsqo+4jMb20WlmNuujrKPA\ncp2ZDSkw7WQze7K51ymto6IDOdwX+lz4ltVKM3vczA5qhuVeYWZ3f5RlOOe+55yb9FHLIi0nvY/M\nbFAIyrL27uac+4VzLnMPeLHwlvhUbCCb2beAafh7JPvj7628EX8Pakuv28K3naIVWxnLHXRSnPZP\n84jmDdeazHcNOAXfKcsDzrktzrn3nXOPOucuCvN0MLOLzWypmf3T/Hf1k/4LktrQl8x3o7nOzL4T\nph2Jv4n/86Hm/WIYP8PMvmtmT+P7ahhsZjub2cPmuy1cYqlfScitZZv/pt7roSzfydme/UNNP+ma\n87oC2729+X4p1prvdvFRM6tJTc9Xxt5mdls4g1hhvtvOjgWWf4WZ3Wdmd5vvCnK+mQ01333mGvPd\nc6Zrb6eb2SKr7+LznNS0cea75fx2+ALK7XnW9w0zW5hsg5lNNN/t6AYze8bMRqXmHW2++9LNZvZr\nfC9jeYXX+RPh8clhX48Iw2ea2UN59tGfwv8NltOvhZldE17v18xsfIF1nm5mj6SG/25m96WGl5vZ\nx1NPOTzMs8HMbjTzfbJYqpnEzJIyvRjK9PnGXqc85RphZr8Lx+hqM7s0te33h329CTjNzLqY2TQz\neyP8TbPQjaqZ9QvH24awrD9b+MAP+3hF2DeLzexThcrT7pW7d6Ny/AFH4nvY2q7IPOfhu4SswX+j\n6mbgnjBtEP6ry7fgu1fcB//Nsb3C9CuAu3OWNwPfw9YIfI9gnfBv4pvw4fBxYC1wWO4y8J0KvQUc\nEspyXSj/4WH6bOCU8LgnUFtgm3bAd5bTHf/11fuAhxop44Nh23vg+9GYC5xTYPlX4G9LOyI8/058\n72tJr2ZnAa+l5j8K3w+D4b8q+zawb5g2LmzjD8I2dwvj6sL0y/FfEKkOw6OBNcAB+G8afgn/LbQu\n+L4nXsd/5bcTvjey94GrCmzHncAF4fHP8J33fCU17Zt59lFyTGyXWs5pYT1nhTJ9Bf/tNMuzzsH4\nznQ64DvzeT21rYPx3yLsEIYd/uvMffBndmuBI1PrTPfM5sjuSa7g65SnTFX4b/NdgD9GM92+hm1/\nH/hsKHM3fCVnDv44qcZ/Ay/phnUqvmvZTuHv4LDfh+H73dg59TruUe6MKFs2lbsAZdlo3x3iqkbm\nWUToOzYMDwgH4HapN19NavpcQheSFA7kKanhgcC/gKrUuKmELjFz3uyXA79KzdcD38dEEsh/Aq4E\n+jXxdfg48GaRMvbHf9B0S407iZyuJFPTrgB+lxo+Gv9B0jEMV4XXrU+B5z8EnBcejwvb2DU1fRy+\nX+Hr8F1Q9k5N+wmpbjrDuMX4oD+EnCAMYVEokM8EHk4dB5OS1x8flPumtrexQF6SGu5OTherOetd\nju8H+0T8B8FcfHejpyflCfM54KDU8L3Axal1Fgvkgq9TnvKcBDxfZF//KWfcUmBCavgIQpee+LD+\nTbosYfwQ/AfE4UCnbX1Pt5e/imyywPfP0M+Kt3vtBjxo9V0XLsIHaP/UPIW6jCwk3d3hzviOhjan\nxr0O7JLnebndH24J25A4E9/D2d/M7Fkzy/vTN+Z/JeLmcEq+CR/kfXKaIHK7jewErEy9DjeT3bVm\nrtyuSdc53wFRMgzhdTKz8eZ/iWV9WPYEsrtgXOucezdn+X2As4GpzvcRkS7rBZbd3eRA/Gu3M7DC\nhQQIinU3ORP/qygD8LXIe/HdZw7C9072QpHn5socI865t8PDQsfJTPyHziHh8Qz8B8pYGv4KSlOP\nvUSx1ylXY1255naFmtTsE6+nlns1/os9T4bmqYsBnHNL8L/EcgWwxsx+ZWb5ylIRKjWQZ+Nrfp8t\nMs9yYLzL7r6wq3NuRQnLL/Rtm/T4N4C+Zpbuu3dXfA0wV273h93xzQ9+oc793Tl3Ej4ofwDcb2Y9\n8iznAvwp4gHOd5N4SLLIAmVcjn+d+qVeg16uGX6gNLQtTsd3lNTfOdcH31NbsW4bwZ+6TwRuN7MD\nc8r63Zz91d35zndWArsk7axBwe4mQ0i8DXwdXwvchA/As/G1z3x9aDTHN6ySQD44PJ5J4UDeVsVe\np3zzDs4zPpG7zW+Q3RPdrmEczrnNzrkLnHOD8RfOv5W0FTvnfumcOyg81+GP4YpUkYEcalaXAzea\n2WdDzbFTqLEl/SD/FPiu+S4Yk989O6bEVazG97Nb8PV1zi3HnzZPNd894ih8TTff7XL34ztFP8jM\nOuNP/zLLNrMvmll1CIqkU+98oVGFr6VuMH+BcnKxjXDOrcT33HatmfUyf6FzD2ueX+jujG/fXQt8\nEC52ldRlp3NuBr7Z6QEz2z+MvgX4spkdYF4PMzsqfODNxrdHfyPs5+PwvZMVMxPfJWUShDNyhnOt\nxb/mxQKsMTPxPw3Wzfkf+vwz/nrHDvifptoWuV1fFnudcj0KDDCz88MFuyozO6DIuu4B/iu8V/rh\n32N3Q+ZC4pDwobgRf7b5ofluVQ8LH9Dv4o/PvJ1GVYKKDGQA59y1wLeA/8K/mZbj33APhVmux3cl\n+KT5Li/n4C+ElCK5Ov5PM5tXZL6T8G2Pb+Avnk12zv0+T1kX4Ptv+CW+tvcmqV9swL9pF5jZW6Hc\nJzrn3sldDv42v274fiHm4LvgbMyp+PBcGNZ7P43/ykajQlPNN/DNAW8CXyC7C9DGnv87/E8LPWJm\n+zrnnsNfPPtxWN4SfHsqzndTelwYXo/vSvKBRlYxE/8B9qcCw7nleRvfr+/ToSmgttRtSS3jFXyb\n+5/D8CbgVeDpVLNPU10B/DyU6T+KvU55yrMZ+Hf8tYBV+K5JDy2yrquA5/A/EjAff9E1+fLNnsDv\nw/bNBm5yzj2F/1D+Pv6YXIU/y7tk2za17VNfFiIikajYGrKISGwUyCIikVAgi4hEQoEsIhIJBbKI\nSCSa1ENTr749XP+a7VuqLCIi7Urvzv7Hz//617+uc85VNzZ/kwK5f832XPfwedtYNBGRynL0oAsB\n34NgKfOryUJEJBIKZBGRSCiQRUQioUAWEYmEAllEJBIKZBGRSCiQRUQioUAWEYmEAllEJBIKZBGR\nSCiQRUQioUAWEYmEAllEJBIKZBGRSCiQRUQioUAWEYmEAllEJBIKZBGRSCiQRUQioUAWEYmEAllE\nJBIKZBGRSCiQRUQioUAWEYmEAllEJBIKZBGRSCiQRUQioUAWEYmEAllEJBIKZBGRSCiQRUQioUAW\nEYmEAllEJBIKZBGRSCiQRUQioUAWEYmEAllEJBIKZBGRSCiQRUQioUAWEYnEduUugIhIe3LUshX1\nA4Oa9lwFsohIM8gK4m2kJgsRkUiohiwi0kTNURvOR4EsIlKClgrhNAWyiEiO1gjffNSGLCISCdWQ\nRUSCctWMEwpkEalI5Q7ffNRkISISCdWQRaRixFgrTlMgi0i7FHv45qMmCxGRSKiGLCLtSlusGScU\nyCLSZrXl8M1HgSwibUp7C+E0tSGLiERCNWQRiVZ7rg3no0AWkehUWhAn1GQhIhIJ1ZBFpKwqtTac\njwJZRFqdQjg/NVmIiERCNWTJqO42iLXvLGux+aUyqTZcOtWQBfDhWtv/BEb0PbSk+Uf0PZTa/idQ\n3W1QyxZM2qyjlq1QGDeRAlkAWPvOMl7d9ByDe+3XaCiP6Hsog3vtx6ubnlMNWaQZqclCMhasfwqA\nwb32yxpOS4dxvulS2VQj/mgUyJKlWCgrjCVN4dv8FMjSQL5QVhhLQkHcchTIklc6lJNgVhiLtCwF\nshS0YP1TmTBOhqWyqDbcuhTIUlDu3RYj+h6qUK4ACuHyUSBLXrltxskwqKYs0lIUyNJAvgt4pdwS\nJ22PasNxUSBLlmJ3UyiU2w8FcZwUyJJRyq1tCmWRlqNAFsD3ZVHqfcbpUF7zzmv6+nTkVBtuOxTI\nAvi+LOasvq/kcF2w/imFccQUwm2TAlkymhquCuM4KHzbD/X2JiISCdWQRdoo1YzbHwWySBug8K0M\narIQEYmEasgikVKtuPIokEUioPAVUJOFiEg0VEMWKaO33jwpPLqmrOWQOCiQRVpJffiK5KcmCxGR\nSKiGLNICVBuWbaFAFmkmCmH5qBTIIttA4SstQW3IIiKRUA1ZpBEtWRv+/Ebd7ib1FMgiBahZQlqb\nmixERCKhGrIIqg1LHBTIUnEUvhIrNVmIiERCNWSpCKoVS1ugQJZ2Y/zvejcYd99+E8pQEpFto0CW\n6OULWpH2SG3IIiKRUA1Zyk41YBFPgSxN9vWbhzcYd98nBzcYN+DLn848nrrH5QWXN/4U1zwFayP0\ndWkpRE0WIiKRUA25jTh6UMPT+kGX7FKGkohIS1EgB/kCL3bLptb/dLzCWaTtU5OFiEgkylJDbou1\nURGRltakQO7duaPCNFJJ80VMTRcrf/pk/cDVs8pXEJE2Qk0WIiKR0EW9dkYX+kTaLtWQpV074bnH\nOOG5x8pdDJGSqIbcjsXYrlzJ9A09aYxqyCIikVAgS6u4ZOkULlk6pdzFEImamiwqgC70ibQNqiGL\niERCgSwiEgk1WVSYlrrz4oRnXs08ztc3cqXqcfW/1w+cfUT5CiJtgmrIIiKRUA25QulCn0h8FMhS\ndufdZZnH11fYzzmJpKnJQlg2dUVWjVlEykOBLCISCTVZiLSArLsrREqkQJYMXehrfhN1q5s0gZos\nREQioRqyVIR0n8j37TehjCURKUw1ZMlLd16ItD4FsohIJNRkIUXpQl+9AVVdWLn5vcz/xlSPOsg/\n6PsxWP+3Fi6dtAcKZJESDKjqwrgh1Szf8DYD+3Rn8ZrNzFuxMWue5Fa36lEHseMpl7DH+FNxa1/C\nqkfx4Us/LRzKCmwJ1GQhLa5XdY+S5hu+fw0AVlNT0vylztccVm5+j8VrNjOwT3fWv72VYTtWse8u\nvRvMVz3qIMZcfAt7jD+VDcsWYtWjcHUzCwauDTmWDqO+7ENZKp4CWUq2bKqxbKo1GD92aHXWcBLA\nvap7sNOQHRhWuyu9r5ycmZ4Eb3p4+P41nHvNeDoeexwdx09oNGw71I4pab7mNG/FRhav2Uzf7p0L\nhvKO+xycedxn0HBc3UzckgfzLs+GHIvVjC0a2FJZFMhSohpgAjCByycOz4wdO7San5++f2bc2KHV\nDKvdleGH7M6w2l0ZuNeOrF+5iapJk+h95WSO/3ot514zPhPKyTDA8lfWYf364datw9XVFSxJh9ox\ndBg5kg/nzy86X0soFsojQjPFhmULG11OOowLBbZUHrUhS4nqgPnASM44cHfOOPAtYDaDLoH/ffo1\nzjhwdwCmPLqQLRvfpUfvrgCsenU9yxesptPqe6maNInDgM233sox91zJXtMe47ATRvLH++az1wE1\nDBzqw9j69aND7Rg+nDO7QSnSYZxvemtI2o6H7ViVCeXqnl3oO9qHcZ9Bw1n6+J0A7DH+VICs0FUY\nSyEKZGmCJABHhj+AfzDlUV8jPOPA3Tlg976ZMC6m95WTM2EMZB4fsmF2JnSBrNCNIYwT6VAG6Nu9\nM0AmjBfcNRWAwSN3w2rGAj6UFcZSjAJZmig7lC+f2JMpjy5kyqMLOWD3vozY2Z++r3p1PQA7De5L\n1Q7d6dF7LzbfeisAVZMmATQI4+k3zOGQU+pDOB3KMYVxYt6KjZlATkvCGOprxlYztj6YFcZSgNqQ\nZRvMxjdf+FrxossH8O39OmfCGGDuC8/w6QmH8fL8BfTo3ZXnn3+eXmedxf1btmTmOeyEkRx2wkiu\nv/5/mHLJD3i+7gkWr1zFWXf8nB3HjOGl3/6WDiNHst1ZZ9Nh5Ejm/OY3DcJ43ea3uPaJJ1i3+a1W\n2fK0fHdZgG9Lnnj2EZmOhXLDV2EshZhzpf9Cw3777eaee+47LVgcaUt+8YsOnHzypKxx0264Ef71\nPueff35m3PPPP8/o0aPr55k2LWu6mdHBOvKh+xfj996bx19+GYBOHTuy9YMPMvN1MGPrz27OWt+1\nTzzBxdMf4PvHH8cFR5TWs1pz9GWx7y69M23Ifbt3zrQdJ//TteCkmSKhGnLl6DBuGgBm9lfn3H6N\nza8mC2mSdeve4vbbn+Yzn9mHL35xcoNA/uY3vgaQFbj77rsvxT74p027ngdvmMvWD9/l6hNG0b9X\nLx558UX+eP/9WfM989BDsGZ11rgvffLArP+tITeMkzbj9F0WfQbVB3C6zTgdzgplyaVAlia5/fan\nueiiB5gx4xV+9KMfNZj+y1/exoY3t2aNmzdvXtbw+eefzx9/fCPT7+3M8V+v5bzzvsHInX0b8k2/\nh+4dT2PN7NqsNuMOtWOoPeaYBm3I/ap6llwzTiQ9v21LTTk3jBev2czi0GactB3vMf5U3Oa6vG3G\n6Tbl9LAIKJCliU4/3ddEzzzzQvr2rQ1j54f/IznppDOA+tvdhh+yO6NHj2bryy/z3pw5mQt6/9a1\nC9NxTL9hDuDbkwGm3zCH479e2+ACXr4Lfa0tXxjPW7GR9PcQ06FciEJZClEgS5P069eTCy+8gvrb\n3uZTf+fFAKBfZt6BI/rTo3dXf1/y3nvTee+9s+60OL63rxWnQ3nPfQYwcGi/vHdTlDOUB1R1YdiO\nVZm+LJY+fieL75pKY18Kd2tf8k0W6xdlfRtPoSz5KJClicaQP4zH4MN4HdCPnQb3Bepvf0vfm7xx\n8pUAHBZqy0koJ2G8/JV1DCgQtuUK5ZWb32PGkrWht7ctbErd2pZWPeog32RRNzMTwq5A50HpUM4N\nbKlMCmRpgmJhPDI17jiSmnLnbp3oO6CqwT3IGydfybO9D8g0VSz6S10mjAcO7ce/ltYU/Fp0OpRd\n3fJW+/p00uXmys3vFawZr31pFrO/fxYH1KbmKBK0bsmDCmPJUCBLiWrIH8bJ+GRcDemact8BVSxf\ntAYLtWLwofzuUzOzmioW/aWOG//zcRbOrWP4/jWcM6x4yH44Z3arhnFTrH1pFtQ24UKjwlgCBbKU\nqA54LPU4d3xdg+HFc44EYNPaLQwIUzdOvpJ3n5rJezNmwB6HMP2GOSz6Sx0L59Yvc+HcOhjWeIli\nDGORj0KBLE1QKABzx/vhTWu3NJwVfBinpMNYpJLpq9MiIpFQDVmkCZKfaRJpCQpkkWaSdCYksq3U\nZCEiEgkFsohIJBTIIiKRUCCLiERCF/Wkxfzb0X/OPK77chkLUkDSDScU74pTd1ZIa1ENWcrmkqVT\nuGTplHIXQyQaCmQRkUgokEVEIqFAFhGJhC7qSZTOu8syj68/pfRfRm9OupgnrU01ZBGRSCiQRUQi\noSYLkY9InQpJc1ENWUQkEgpkEZFIKJClVdSsuIyaFZeVuxgiUVMbskiKbnWTclINWUQkEgpkEZFI\nqMlChPquOB9rZD6RlqQasohIJBTIIiKRUCCLiERCgSwiEgkFsohIJHSXhcg2UIdC0hJUQxYRiYRq\nyFJ26V+enrrH5WUsiUh5qYYsIhIJBbJE77y7LOs39kTaKwWyiEgkFMgiIpHQRT1pVelO6ut2+e8y\nlkQkPqohi4hEQoEsIhIJBbKISCQUyCIikdBFPZGUCYd+M/P4sad+VMaSSCVSIIs0gToVkpakJgsR\nkUgokEX2PMCEAAAA50lEQVREIqFAFhGJhAJZRCQSCmQRkUgokEVEIqFAFhGJhAJZRCQSCmQRkUgo\nkKVsalZcltU/MvgfPE3/6KlIJVEgi4hEQn1ZSJuR/qHT609xZSyJSMtQIIs0Qh0KSWtRk4WISCQU\nyCIikVCThUgB9Z3VLyxrOaRyqIYsIhIJBbKISCQUyCIikVAgi4hEQoEsIhIJBbKISCTMudK/gmpm\na4HXW644IiLt0m7OuerGZmpSIIuISMtRk4WISCQUyCIikVAgi4hEQoEsIhIJBbKISCQUyCIikVAg\ni4hEQoEsIhIJBbKISCT+H4s0fjSSg0ixAAAAAElFTkSuQmCC\n",
      "text/plain": [
       "<matplotlib.figure.Figure at 0x173e68ec6d8>"
      ]
     },
     "metadata": {},
     "output_type": "display_data"
    }
   ],
   "source": [
    "import matplotlib.pyplot as plt\n",
    "reduced_data = PCA(n_components=2).fit_transform(data)\n",
    "kmeans = KMeans(init='k-means++', n_clusters=10, n_init=10)\n",
    "kmeans.fit(reduced_data)\n",
    "\n",
    "# Step size of the mesh. Decrease to increase the quality of the VQ.\n",
    "h = .02     # point in the mesh [x_min, x_max]x[y_min, y_max].\n",
    "\n",
    "# Plot the decision boundary. For that, we will assign a color to each\n",
    "x_min, x_max = reduced_data[:, 0].min() - 1, reduced_data[:, 0].max() + 1\n",
    "y_min, y_max = reduced_data[:, 1].min() - 1, reduced_data[:, 1].max() + 1\n",
    "xx, yy = np.meshgrid(np.arange(x_min, x_max, h), np.arange(y_min, y_max, h))\n",
    "\n",
    "# Obtain labels for each point in mesh. Use last trained model.\n",
    "Z = kmeans.predict(np.c_[xx.ravel(), yy.ravel()])\n",
    "\n",
    "# Put the result into a color plot\n",
    "Z = Z.reshape(xx.shape)\n",
    "plt.figure(1)\n",
    "plt.clf()\n",
    "plt.imshow(Z, interpolation='nearest',\n",
    "           extent=(xx.min(), xx.max(), yy.min(), yy.max()),\n",
    "           cmap=plt.cm.Paired,\n",
    "           aspect='auto', origin='lower')\n",
    "\n",
    "plt.plot(reduced_data[:, 0], reduced_data[:, 1], 'k.', markersize=2)\n",
    "# Plot the centroids as a white X\n",
    "centroids = kmeans.cluster_centers_\n",
    "plt.scatter(centroids[:, 0], centroids[:, 1],\n",
    "            marker='x', s=169, linewidths=3,\n",
    "            color='w', zorder=10)\n",
    "plt.title('K-means clustering (PCA-reduced data)\\n'\n",
    "          'Centroids are marked with white cross')\n",
    "plt.xlim(x_min, x_max)\n",
    "plt.ylim(y_min, y_max)\n",
    "plt.xticks(())\n",
    "plt.yticks(())\n",
    "plt.show()"
   ]
  },
  {
   "cell_type": "code",
   "execution_count": 73,
   "metadata": {
    "collapsed": false
   },
   "outputs": [],
   "source": [
    "labels=kmeans.labels_"
   ]
  },
  {
   "cell_type": "code",
   "execution_count": 74,
   "metadata": {
    "collapsed": false
   },
   "outputs": [
    {
     "data": {
      "text/plain": [
       "array([[  0,  34],\n",
       "       [  1, 371],\n",
       "       [  2,  10],\n",
       "       [  3,  17],\n",
       "       [  4,  34],\n",
       "       [  5,   3],\n",
       "       [  6,  39],\n",
       "       [  7,  20],\n",
       "       [  8, 148],\n",
       "       [  9,  36]], dtype=int64)"
      ]
     },
     "execution_count": 74,
     "metadata": {},
     "output_type": "execute_result"
    }
   ],
   "source": [
    "itemfreq(labels)"
   ]
  },
  {
   "cell_type": "code",
   "execution_count": null,
   "metadata": {
    "collapsed": true
   },
   "outputs": [],
   "source": []
  },
  {
   "cell_type": "code",
   "execution_count": null,
   "metadata": {
    "collapsed": true
   },
   "outputs": [],
   "source": []
  }
 ],
 "metadata": {
  "kernelspec": {
   "display_name": "Python 3",
   "language": "python",
   "name": "python3"
  },
  "language_info": {
   "codemirror_mode": {
    "name": "ipython",
    "version": 3
   },
   "file_extension": ".py",
   "mimetype": "text/x-python",
   "name": "python",
   "nbconvert_exporter": "python",
   "pygments_lexer": "ipython3",
   "version": "3.6.0"
  }
 },
 "nbformat": 4,
 "nbformat_minor": 2
}
