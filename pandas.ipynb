{
 "cells": [
  {
   "cell_type": "code",
   "execution_count": null,
   "metadata": {
    "collapsed": true
   },
   "outputs": [],
   "source": [
    "import pandas as pd"
   ]
  },
  {
   "cell_type": "code",
   "execution_count": null,
   "metadata": {
    "collapsed": false
   },
   "outputs": [],
   "source": [
    "data = pd.DataFrame(columns = list(range(1,25001)))"
   ]
  },
  {
   "cell_type": "code",
   "execution_count": null,
   "metadata": {
    "collapsed": false
   },
   "outputs": [],
   "source": [
    "data"
   ]
  },
  {
   "cell_type": "code",
   "execution_count": null,
   "metadata": {
    "collapsed": false
   },
   "outputs": [],
   "source": [
    "data =data.add_prefix('F')"
   ]
  },
  {
   "cell_type": "code",
   "execution_count": null,
   "metadata": {
    "collapsed": false
   },
   "outputs": [],
   "source": [
    "data =data.reindex(data.index.tolist() + list(range(0, 100)))"
   ]
  },
  {
   "cell_type": "code",
   "execution_count": null,
   "metadata": {
    "collapsed": true
   },
   "outputs": [],
   "source": [
    "data.fillna(0,inplace=True)"
   ]
  },
  {
   "cell_type": "code",
   "execution_count": null,
   "metadata": {
    "collapsed": false
   },
   "outputs": [],
   "source": [
    "data.shape"
   ]
  },
  {
   "cell_type": "code",
   "execution_count": null,
   "metadata": {
    "collapsed": false
   },
   "outputs": [],
   "source": [
    "data.head()"
   ]
  },
  {
   "cell_type": "code",
   "execution_count": null,
   "metadata": {
    "collapsed": false
   },
   "outputs": [],
   "source": [
    "data =data.rename('T{}'.format)"
   ]
  },
  {
   "cell_type": "code",
   "execution_count": null,
   "metadata": {
    "collapsed": true
   },
   "outputs": [],
   "source": [
    "import random"
   ]
  },
  {
   "cell_type": "code",
   "execution_count": null,
   "metadata": {
    "collapsed": false
   },
   "outputs": [],
   "source": [
    "%%time\n",
    "for i in range(0,1):\n",
    "    per = random.uniform(0.2,0.9)\n",
    "    tot = per*25000\n",
    "    dstrbtn = random.sample(range(1,25000),int(tot))\n",
    "    columns = ['F'+str(i) for i in dstrbtn]\n",
    "    data[i:i+1][columns]=1\n",
    "    "
   ]
  },
  {
   "cell_type": "code",
   "execution_count": null,
   "metadata": {
    "collapsed": false
   },
   "outputs": [],
   "source": [
    "data"
   ]
  },
  {
   "cell_type": "code",
   "execution_count": null,
   "metadata": {
    "collapsed": true
   },
   "outputs": [],
   "source": []
  },
  {
   "cell_type": "code",
   "execution_count": null,
   "metadata": {
    "collapsed": false
   },
   "outputs": [],
   "source": [
    "per = random.uniform(0.2,0.9)\n",
    "tot = per*25000\n"
   ]
  },
  {
   "cell_type": "code",
   "execution_count": null,
   "metadata": {
    "collapsed": false
   },
   "outputs": [],
   "source": [
    "dstrbtn = random.sample(range(1,25000),100)"
   ]
  },
  {
   "cell_type": "code",
   "execution_count": null,
   "metadata": {
    "collapsed": false
   },
   "outputs": [],
   "source": [
    "data[0:1]['F10']=1"
   ]
  },
  {
   "cell_type": "code",
   "execution_count": null,
   "metadata": {
    "collapsed": false
   },
   "outputs": [],
   "source": [
    "data"
   ]
  },
  {
   "cell_type": "code",
   "execution_count": null,
   "metadata": {
    "collapsed": true
   },
   "outputs": [],
   "source": [
    "#sum of all columns for a row\n",
    "total =data.sum(axis = 1, skipna = True) .values"
   ]
  },
  {
   "cell_type": "code",
   "execution_count": null,
   "metadata": {
    "collapsed": true
   },
   "outputs": [],
   "source": [
    "#sort by a column\n",
    "tcp.sort_values(by=['prob'],ascending=False)"
   ]
  },
  {
   "cell_type": "code",
   "execution_count": null,
   "metadata": {
    "collapsed": true
   },
   "outputs": [],
   "source": [
    "def jaccard_similarity(x,y):\n",
    "    union = set(x).union(set(y))\n",
    "    intersection = set(x).intersection(set(y))\n",
    "    return len(intersection)/len(union)\n",
    "    "
   ]
  },
  {
   "cell_type": "code",
   "execution_count": null,
   "metadata": {
    "collapsed": true
   },
   "outputs": [],
   "source": [
    "#argsort gives ordering with indexex instead of values\n",
    "sim[458].argsort()[-11:-1]\n",
    "np.argmin(sim[956])  # index of minimum values\n",
    "np.amin(sim[803])   #minimum value"
   ]
  },
  {
   "cell_type": "code",
   "execution_count": null,
   "metadata": {
    "collapsed": true
   },
   "outputs": [],
   "source": [
    "data.set_index('file_funct', inplace=True, drop=True)\n",
    "data_1=data.drop(['Unnamed: 0', 'File', 'Line', 'Statement', 'Function id', 'Function'],axis=1)\n",
    "data = pd.concat([data_1hw,data_2hw],ignore_index=True)\n",
    "data_1hw = data_1hw.drop_duplicates(['split_1mod','file'],keep='last')\n",
    "data_3 =data_1.T\n",
    "cov_data = data_3.copy()\n",
    "cov_dict =(data_3==1).apply(lambda y: data_3.columns[y.tolist()].tolist(), axis=1).to_dict()\n",
    "print(data_3.index.values)\n",
    "tcp.loc[:,\"total_no_functions\"].mean()\n",
    "res = pd.merge(data_1,data_2,left_on='File',right_on='FilePath',how='left')\n",
    "gcov_file_list =gcov['source_file'].value_counts().index.tolist()\n",
    "func_cov = func_cov[func_cov['file_mod1'].isin(gcov_file_list)]\n",
    "miss_cov_list=list(set(fcov_list) - set(common_files))\n",
    "#return pd.Series([file,function])"
   ]
  },
  {
   "cell_type": "code",
   "execution_count": null,
   "metadata": {
    "collapsed": true
   },
   "outputs": [],
   "source": [
    "import re\n",
    "\n",
    "numbers = re.findall(\"\\d\\d+\\s\\w{0,2}\\d{0,2}\\n\",text)"
   ]
  },
  {
   "cell_type": "code",
   "execution_count": null,
   "metadata": {
    "collapsed": true
   },
   "outputs": [],
   "source": [
    "import random\n",
    "random.sample(list1, 3)\n",
    "\n",
    "data_1['info'] = data_1['title'].str.cat(data_1['file_fun_append'].values.astype(str), sep=' ')\n",
    "\n",
    "import sklearn\n",
    "from sklearn.cluster import KMeans\n",
    "\n",
    "from nltk.cluster.kmeans import KMeansClusterer\n",
    "kclusterer = KMeansClusterer(20, distance=sklearn.metrics.pairwise.cosine_similarity, repeats=50)\n",
    "#clusters = kclusterer.cluster(reduced_data,True, trace=True)\n",
    "\n",
    "\n",
    "def file_print(dat):\n",
    "    #print(dat)\n",
    "    dirc = dat['split_1mod']\n",
    "    #print(dirc)\n",
    "    filename = dat['file']\n",
    "    try:\n",
    "        f=open('\\\\\\\\hboga-linux\\\\workspace\\\\code\\\\LA'+'/'+dirc+'/'+filename)\n",
    "        text = f.read()\n",
    "        prints = re.findall(r'\\(\"(.*?)\"', text)\n",
    "    except:\n",
    "         prints=[]\n",
    "    return prints\n",
    "    \n",
    "data_1hw['prints'] = data_1hw.apply(file_print,axis=1)"
   ]
  },
  {
   "cell_type": "code",
   "execution_count": null,
   "metadata": {
    "collapsed": true
   },
   "outputs": [],
   "source": [
    "%%time\n",
    "res = pd.merge(data_1,data_2,left_on='File',right_on='FilePath',how='left')\n",
    "res_1 = res[(res['startline']<= res['Line']) & (res['Line']<= res['endline'])]\n",
    "coverage_data = coverage_data[coverage_data[incoming_changes].any(axis='columns')]\n",
    "val = textClfNB.predict_proba(query_vec)"
   ]
  },
  {
   "cell_type": "code",
   "execution_count": null,
   "metadata": {
    "collapsed": true
   },
   "outputs": [],
   "source": [
    "import random\n",
    "random.sample(list1, 3)"
   ]
  },
  {
   "cell_type": "code",
   "execution_count": null,
   "metadata": {
    "collapsed": true
   },
   "outputs": [],
   "source": [
    "data_1['info'] = data_1['title'].str.cat(data_1['file_fun_append'].values.astype(str), sep=' ')"
   ]
  },
  {
   "cell_type": "code",
   "execution_count": null,
   "metadata": {
    "collapsed": true
   },
   "outputs": [],
   "source": [
    "def file_print(dat):\n",
    "    #print(dat)\n",
    "    dirc = dat['split_1mod']\n",
    "    #print(dirc)\n",
    "    filename = dat['file']\n",
    "    try:\n",
    "        f=open('\\\\\\\\hboga-linux\\\\workspace\\\\code\\\\LA'+'/'+dirc+'/'+filename)\n",
    "        text = f.read()\n",
    "        prints = re.findall(r'\\(\"(.*?)\"', text)\n",
    "    except:\n",
    "         prints=[]\n",
    "    return prints\n",
    "    \n",
    "data_1hw['prints'] = data_1hw.apply(file_print,axis=1)"
   ]
  },
  {
   "cell_type": "code",
   "execution_count": null,
   "metadata": {
    "collapsed": true
   },
   "outputs": [],
   "source": [
    "data.funct2.apply(pd.Series).stack().value_counts()"
   ]
  },
  {
   "cell_type": "code",
   "execution_count": null,
   "metadata": {
    "collapsed": true
   },
   "outputs": [],
   "source": [
    "f = open(\"mainlog_20191111_191355.txt\", \"r\",encoding=\"utf-8\")\n",
    "print(f.read())\n",
    "for i in f.readlines():\n",
    "    print(i)\n",
    "data_mod = data.groupby('p_name')['mss_print_type'].apply(lambda x: list(set(x)))"
   ]
  }
 ],
 "metadata": {
  "kernelspec": {
   "display_name": "Python 3",
   "language": "python",
   "name": "python3"
  },
  "language_info": {
   "codemirror_mode": {
    "name": "ipython",
    "version": 3
   },
   "file_extension": ".py",
   "mimetype": "text/x-python",
   "name": "python",
   "nbconvert_exporter": "python",
   "pygments_lexer": "ipython3",
   "version": "3.6.0"
  }
 },
 "nbformat": 4,
 "nbformat_minor": 2
}
