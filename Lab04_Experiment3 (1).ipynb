{
 "cells": [
  {
   "cell_type": "markdown",
   "metadata": {},
   "source": [
    "# Foundations of AI/ML by IIIT-Hyderabad & Talent Sprint\n",
    "# Lab04 Experiment 3"
   ]
  },
  {
   "cell_type": "markdown",
   "metadata": {},
   "source": [
    "# SPEECH RECOGNITION"
   ]
  },
  {
   "cell_type": "markdown",
   "metadata": {},
   "source": [
    "Speech has been one of the most widely used mode of communication. One of the part of our day-today communication is to give and receive commands/instructions. Making a machine understand these instructions to perform certain activities can be a boon for a host of applications.\n",
    "\n",
    "In this experiment we will work on recognizing speech into 30 commands.\n",
    "\n",
    "- Firstly, we will explore and visualize audio features for speech.\n",
    "\n",
    "\n",
    "- We will then use these features to train different classifiers, to classify them into 30 different classes:\n",
    "    - kNN classifier with MFCC features\n",
    "    - kNN classifier with Deep features\n",
    "    - Naive Bayes classifier with MFCC features\n",
    "    - Naive Bayes classifier with Deep features\n",
    "    - Multi-class linear classifier with MFCC features\n",
    "    - Multi-class linear classifier with Deep features\n",
    "\n",
    "\n",
    "- Lastly, we will use different evaluation measures to compare the performances of our classifiers."
   ]
  },
  {
   "cell_type": "code",
   "execution_count": 1,
   "metadata": {
    "collapsed": false
   },
   "outputs": [
    {
     "name": "stdout",
     "output_type": "stream",
     "text": [
      "Collecting librosa\n",
      "  Downloading librosa-0.5.1.tar.gz (1.5MB)\n",
      "\u001b[K    100% |################################| 1.5MB 1.1MB/s eta 0:00:01\n",
      "\u001b[?25hCollecting audioread>=2.0.0 (from librosa)\n",
      "  Downloading audioread-2.1.5.tar.gz\n",
      "Requirement already satisfied: numpy>=1.8.0 in /usr/local/lib/python3.5/dist-packages (from librosa)\n",
      "Requirement already satisfied: scipy>=0.13.0 in /usr/local/lib/python3.5/dist-packages (from librosa)\n",
      "Requirement already satisfied: scikit-learn>=0.14.0 in /usr/local/lib/python3.5/dist-packages (from librosa)\n",
      "Collecting joblib>=0.7.0 (from librosa)\n",
      "  Downloading joblib-0.11-py2.py3-none-any.whl (176kB)\n",
      "\u001b[K    100% |################################| 184kB 7.4MB/s eta 0:00:01\n",
      "\u001b[?25hRequirement already satisfied: decorator>=3.0.0 in /usr/local/lib/python3.5/dist-packages (from librosa)\n",
      "Requirement already satisfied: six>=1.3 in /usr/local/lib/python3.5/dist-packages (from librosa)\n",
      "Collecting resampy>=0.1.2 (from librosa)\n",
      "  Downloading resampy-0.2.0.tar.gz (322kB)\n",
      "\u001b[K    100% |################################| 327kB 4.9MB/s eta 0:00:01\n",
      "\u001b[?25hCollecting numba>=0.32 (from resampy>=0.1.2->librosa)\n",
      "  Downloading numba-0.36.2-cp35-cp35m-manylinux1_x86_64.whl (1.9MB)\n",
      "\u001b[K    100% |################################| 1.9MB 905kB/s eta 0:00:01\n",
      "\u001b[?25hCollecting llvmlite (from numba>=0.32->resampy>=0.1.2->librosa)\n",
      "  Downloading llvmlite-0.21.0-cp35-cp35m-manylinux1_x86_64.whl (14.8MB)\n",
      "\u001b[K    100% |################################| 14.8MB 116kB/s eta 0:00:01\n",
      "\u001b[?25hBuilding wheels for collected packages: librosa, audioread, resampy\n",
      "  Running setup.py bdist_wheel for librosa ... \u001b[?25ldone\n",
      "\u001b[?25h  Stored in directory: /root/.cache/pip/wheels/7a/bf/9f/fc279e1814da2144161848a7419cdcf923d0c03f481abe7904\n",
      "  Running setup.py bdist_wheel for audioread ... \u001b[?25ldone\n",
      "\u001b[?25h  Stored in directory: /root/.cache/pip/wheels/47/cc/d8/e1476000d1720a72117ef5c0b1a51388b8567ebfface47ede7\n",
      "  Running setup.py bdist_wheel for resampy ... \u001b[?25ldone\n",
      "\u001b[?25h  Stored in directory: /root/.cache/pip/wheels/c6/8e/c0/4c402972789ddf6d2d701468417de19d0cad28bd698a867e2d\n",
      "Successfully built librosa audioread resampy\n",
      "Installing collected packages: audioread, joblib, llvmlite, numba, resampy, librosa\n",
      "Successfully installed audioread-2.1.5 joblib-0.11 librosa-0.5.1 llvmlite-0.21.0 numba-0.36.2 resampy-0.2.0\n"
     ]
    }
   ],
   "source": [
    "!pip install librosa      #required library for experiment\n"
   ]
  },
  {
   "cell_type": "code",
   "execution_count": 2,
   "metadata": {
    "collapsed": true
   },
   "outputs": [],
   "source": [
    "import os\n",
    "\n",
    "import warnings\n",
    "warnings.filterwarnings(\"ignore\")\n",
    "\n",
    "# Math\n",
    "import numpy as np\n",
    "from scipy import signal\n",
    "from scipy.io import wavfile\n",
    "import librosa\n",
    "\n",
    "# Visualization\n",
    "import matplotlib.pyplot as plt\n",
    "import librosa.display\n",
    "\n",
    "from matplotlib.pyplot import *\n",
    "%matplotlib inline\n",
    "\n",
    "from classifiers import *"
   ]
  },
  {
   "cell_type": "markdown",
   "metadata": {},
   "source": [
    "# Dataset\n",
    "\n",
    "For this exercise we will use TensorFlow’s Speech Commands Datasets which includes 65,000 one second-long utterances of 30 short commands. This dataset has been curated using thousands of people and is opensource under a Creative Commons BY 4.0 license.\n",
    "\n",
    "Example commands: 'Yes', 'No', 'Up', 'Down', 'Left', etc."
   ]
  },
  {
   "cell_type": "code",
   "execution_count": 3,
   "metadata": {
    "collapsed": true
   },
   "outputs": [],
   "source": [
    "unique_classes = np.array(['bed', 'bird', 'cat', 'dog', 'down', 'eight', 'five', 'four', 'go', 'happy',\n",
    "                           'house', 'left', 'marvin', 'nine', 'no', 'off', 'on', 'one', 'right', 'seven',\n",
    "                           'sheila', 'six', 'stop', 'three', 'tree', 'two', 'up', 'wow', 'yes', 'zero'])"
   ]
  },
  {
   "cell_type": "markdown",
   "metadata": {},
   "source": [
    "Let us read a sample audio file from this dataset: "
   ]
  },
  {
   "cell_type": "code",
   "execution_count": 6,
   "metadata": {
    "collapsed": false
   },
   "outputs": [
    {
     "name": "stdout",
     "output_type": "stream",
     "text": [
      "16000\n"
     ]
    }
   ],
   "source": [
    "audio_file_path = '../../workdir/Datasets'\n",
    "filename = '/5e1b34a6_nohash_0.wav'\n",
    "sample_rate, samples = wavfile.read(str(audio_file_path) + filename)\n",
    "print(sample_rate)"
   ]
  },
  {
   "cell_type": "markdown",
   "metadata": {},
   "source": [
    "# 1. MFCC features"
   ]
  },
  {
   "cell_type": "markdown",
   "metadata": {},
   "source": [
    "##  1.1. Amplitude\n",
    "\n",
    "Speech is a temporal signal, where the amplitude of the signal varies with time.\n",
    "\n",
    "The amplitude v/s time graph of the audio file we read is:"
   ]
  },
  {
   "cell_type": "code",
   "execution_count": 7,
   "metadata": {
    "collapsed": false
   },
   "outputs": [
    {
     "data": {
      "image/png": "[encoded data removed]",
      "text/plain": [
       "<matplotlib.figure.Figure at 0x7f0dfdf9b048>"
      ]
     },
     "metadata": {},
     "output_type": "display_data"
    }
   ],
   "source": [
    "fig = plt.figure(figsize=(14, 8))\n",
    "plt.plot(np.linspace(0, sample_rate/len(samples), sample_rate), samples)\n",
    "plt.gca().set_title('Raw wave of ' + filename)\n",
    "plt.gca().set_ylabel('Amplitude')\n",
    "plt.grid(\"on\")"
   ]
  },
  {
   "cell_type": "markdown",
   "metadata": {},
   "source": [
    "## 1.2 Log Spectrogram\n",
    "\n",
    "The same speech signal could be interpreted as made up of several frequencies of waves. A visualization of the power, i.e. energy per unit time in each frequency v/s time is called the Spectrogram.\n",
    "\n",
    "Usually, the log of this energy is considered a better parameter. This is because the power in sound is synonymous with volume (loudness) of the sound, and the human ears are more sensitive to smaller volumes than larger volumes. So it is more convenient to observe the log of the volume rather than the volume itself. The log of sound power is measured in deciBels (dB). (You might be familiar with dB as a unit of sound volume). Hence, we shall consider the Log Spectrogram instead of just the spectrogram.\n",
    "\n",
    "Let us cmpute the Log Spectrogram of the audio file we read:"
   ]
  },
  {
   "cell_type": "code",
   "execution_count": 8,
   "metadata": {
    "collapsed": true
   },
   "outputs": [],
   "source": [
    "def log_specgram(audio, sample_rate, window_size=20, step_size=10, eps=1e-10):\n",
    "    \n",
    "    # Number of samples per window/segment\n",
    "    nperseg = int(round(window_size * sample_rate / 1e3))\n",
    "    \n",
    "    # Number of overlapping samples\n",
    "    noverlap = int(round(step_size * sample_rate / 1e3))\n",
    "    \n",
    "    # Compute the spectrogram\n",
    "    freqs, times, spec = signal.spectrogram(audio,\n",
    "                                            fs=sample_rate,\n",
    "                                            window='hann',\n",
    "                                            nperseg=nperseg,\n",
    "                                            noverlap=noverlap,\n",
    "                                            detrend=False)\n",
    "    \n",
    "    # Return log of the spectrogram values, with time axis in columns and frequencies in rows\n",
    "    return freqs, times, np.log(spec.T.astype(np.float32) + eps)"
   ]
  },
  {
   "cell_type": "code",
   "execution_count": 9,
   "metadata": {
    "collapsed": true
   },
   "outputs": [],
   "source": [
    "freqs, times, spectrogram = log_specgram(samples, sample_rate)"
   ]
  },
  {
   "cell_type": "markdown",
   "metadata": {},
   "source": [
    "Let us plot the log spectrogram:"
   ]
  },
  {
   "cell_type": "code",
   "execution_count": 10,
   "metadata": {
    "collapsed": false,
    "scrolled": true
   },
   "outputs": [
    {
     "data": {
      "text/plain": [
       "<matplotlib.colorbar.Colorbar at 0x7f0dfbe9e940>"
      ]
     },
     "execution_count": 10,
     "metadata": {},
     "output_type": "execute_result"
    },
    {
     "data": {
      "image/png": "[encoded data removed]",
      "text/plain": [
       "<matplotlib.figure.Figure at 0x7f0dfbca9780>"
      ]
     },
     "metadata": {},
     "output_type": "display_data"
    }
   ],
   "source": [
    "fig = plt.figure(figsize=(14, 4))\n",
    "plt.imshow(spectrogram.T, aspect='auto', origin='lower', \n",
    "           extent=[times.min(), times.max(), freqs.min(), freqs.max()])\n",
    "plt.gca().set_yticks(freqs[::16])\n",
    "plt.gca().set_xticks(times[9::10])\n",
    "plt.gca().set_title('Spectrogram of ' + filename)\n",
    "plt.gca().set_ylabel('Frequency in Hz')\n",
    "plt.gca().set_xlabel('Seconds')\n",
    "plt.colorbar()"
   ]
  },
  {
   "cell_type": "markdown",
   "metadata": {},
   "source": [
    "As can be seen from the amplitude v/s time graph, the command is being uttered between 0.4 seconds and 0.6 seconds.\n",
    "\n",
    "As can be seen from the spectrogram, the command is composed more of lower frequencies than higher frequencies. The rest of the time when there is no speech, each frequency has an equal contribution to the sound. This is called \"White Noise\".\n",
    "\n",
    "Notice that the range of frequencies we are observing in the spectrogram is the linear scale between 0 Hz and 8000 Hz."
   ]
  },
  {
   "cell_type": "markdown",
   "metadata": {},
   "source": [
    "## 1.2. Mel Spectrogram\n",
    "\n",
    "Human ears tend to listen to sounds in the log scale. That means, at lower frequencies we can detect small changes, but at higher frequencies our ears become less sensitive to small changes. For example, the difference between 10 Hz and 20 Hz would sound almost the same to us as that between 1000 Hz and 2000 Hz. To observe this logarithmic change, the frequency scale is modified into the [\"mel frequency\" scale](https://en.wikipedia.org/wiki/Mel_scale).\n",
    "\n",
    "Let us compute the Mel Spectrogram using a convenient function in the `librosa` library in Python:"
   ]
  },
  {
   "cell_type": "code",
   "execution_count": 11,
   "metadata": {
    "collapsed": false
   },
   "outputs": [
    {
     "name": "stdout",
     "output_type": "stream",
     "text": [
      "(128, 51)\n"
     ]
    }
   ],
   "source": [
    "# From this tutorial\n",
    "# https://github.com/librosa/librosa/blob/master/examples/LibROSA%20demo.ipynb\n",
    "S = librosa.feature.melspectrogram(samples, sr=sample_rate, hop_length=int(0.020*sample_rate), n_mels=128)\n",
    "print(S.shape)"
   ]
  },
  {
   "cell_type": "markdown",
   "metadata": {},
   "source": [
    "As mentioned before, the log of the spectrogram is a better parameter to observe rather than the spectrogram itself. Let us compute this using another convenient function in the `librosa` library:"
   ]
  },
  {
   "cell_type": "code",
   "execution_count": 12,
   "metadata": {
    "collapsed": true
   },
   "outputs": [],
   "source": [
    "# Convert to log scale (dB). We'll use the peak power (max) as reference.\n",
    "log_S = librosa.power_to_db(S, ref=np.max)"
   ]
  },
  {
   "cell_type": "markdown",
   "metadata": {},
   "source": [
    "Let's plot the log Mel spectrogam with the y-axis having frequenies in the mel scale instead of the linear scale: "
   ]
  },
  {
   "cell_type": "code",
   "execution_count": 13,
   "metadata": {
    "collapsed": false
   },
   "outputs": [
    {
     "data": {
      "image/png": "[encoded data removed]",
      "text/plain": [
       "<matplotlib.figure.Figure at 0x7f0dfbecb8d0>"
      ]
     },
     "metadata": {},
     "output_type": "display_data"
    }
   ],
   "source": [
    "plt.figure(figsize=(12, 4))\n",
    "librosa.display.specshow(log_S, sr=sample_rate, x_axis='time', y_axis='mel')\n",
    "plt.title('Log-power Mel spectrogram ')\n",
    "plt.colorbar(format='%+02.0f dB')\n",
    "plt.tight_layout()"
   ]
  },
  {
   "cell_type": "markdown",
   "metadata": {},
   "source": [
    "Observe that the frequencies in the y-axis are not linear in scale. "
   ]
  },
  {
   "cell_type": "markdown",
   "metadata": {},
   "source": [
    "## 1.3 Mel Frequency Cepstral Coefficients (MFCCs)\n",
    "\n",
    "Next, \"Cepstral Coefficients\" are important numbers that describe speech information in audio. By computing these Cepstral Coefficients in the mel scale, we shall obtain Mel Frequency Cepstral Coefficients.\n",
    "\n",
    "For technical details, the procedure to compute MFCCs is:\n",
    "\n",
    "- Take the Discrete Fourier Transform on every sliding window over the audio with some overlap.\n",
    "- Apply `n_mels` triangular Mel-scale filters onto the Fourier power spectrum, and apply logarithm to the outputs.\n",
    "- Apply the Discrete Cosine Transform, and reduce dimensionality to `n_mfcc` dimensions.\n",
    "\n",
    "Let's use a convenient library function called `librosa.feature.mfcc` to compute MFCCs from the spectrogram:"
   ]
  },
  {
   "cell_type": "code",
   "execution_count": 14,
   "metadata": {
    "collapsed": false
   },
   "outputs": [
    {
     "name": "stdout",
     "output_type": "stream",
     "text": [
      "(13, 51)\n"
     ]
    }
   ],
   "source": [
    "mfcc = librosa.feature.mfcc(S=log_S, n_mfcc=13)\n",
    "print(mfcc.shape)"
   ]
  },
  {
   "cell_type": "markdown",
   "metadata": {},
   "source": [
    "Let us plot the MFCCs:"
   ]
  },
  {
   "cell_type": "code",
   "execution_count": 15,
   "metadata": {
    "collapsed": false
   },
   "outputs": [
    {
     "data": {
      "image/png": "[encoded data removed]",
      "text/plain": [
       "<matplotlib.figure.Figure at 0x7f0dfbe20390>"
      ]
     },
     "metadata": {},
     "output_type": "display_data"
    }
   ],
   "source": [
    "plt.figure(figsize=(12, 3))\n",
    "librosa.display.specshow(mfcc)\n",
    "plt.ylabel('MFCC coeffs')\n",
    "plt.xlabel('Time')\n",
    "plt.title('MFCC')\n",
    "plt.colorbar()\n",
    "plt.tight_layout()"
   ]
  },
  {
   "cell_type": "markdown",
   "metadata": {},
   "source": [
    "## 1.4 Delta MFCCs\n",
    "\n",
    "MFCCs as such are quite powerful features, but even better features are their first-order and second-order derivatives.\n",
    "\n",
    "Let's use a convenient library function called `librosa.feature.mfcc` to compute the second-order delta MFCCs:"
   ]
  },
  {
   "cell_type": "code",
   "execution_count": 16,
   "metadata": {
    "collapsed": true
   },
   "outputs": [],
   "source": [
    "# Find 1st order delta_mfcc\n",
    "delta1_mfcc = librosa.feature.delta(mfcc, order=1)\n",
    "\n",
    "# Find 2nd order delta_mfcc\n",
    "delta2_mfcc = librosa.feature.delta(mfcc, order=2)"
   ]
  },
  {
   "cell_type": "markdown",
   "metadata": {},
   "source": [
    "Let's plot the 2nd order delta MFCCs:"
   ]
  },
  {
   "cell_type": "code",
   "execution_count": 17,
   "metadata": {
    "collapsed": false
   },
   "outputs": [
    {
     "data": {
      "image/png": "[encoded data removed]",
      "text/plain": [
       "<matplotlib.figure.Figure at 0x7f0dfbe30240>"
      ]
     },
     "metadata": {},
     "output_type": "display_data"
    }
   ],
   "source": [
    "plt.figure(figsize=(12, 6))\n",
    "\n",
    "plt.subplot(211)\n",
    "librosa.display.specshow(delta1_mfcc)\n",
    "plt.ylabel('1st order Delta MFCC coeffs')\n",
    "plt.xlabel('Time')\n",
    "plt.title('1st order Delta MFCC')\n",
    "plt.colorbar()\n",
    "plt.tight_layout()\n",
    "\n",
    "plt.subplot(212)\n",
    "librosa.display.specshow(delta2_mfcc)\n",
    "plt.ylabel('2nd order Delta MFCC coeffs')\n",
    "plt.xlabel('Time')\n",
    "plt.title('2nd order Delta MFCC')\n",
    "plt.colorbar()\n",
    "plt.tight_layout()"
   ]
  },
  {
   "cell_type": "markdown",
   "metadata": {},
   "source": [
    "# 2. Load the Dataset\n",
    "The dataset is of ~10GB in size and operating directly on it will take a lot of time, therefore we have included that as a Homework Exercise for those who are interested to go into that detail.\n",
    "Our team has instead precomputed the features which can be loaded directly and computed on.\n",
    "\n",
    "# 3. Load MFCC features"
   ]
  },
  {
   "cell_type": "code",
   "execution_count": 22,
   "metadata": {
    "collapsed": false
   },
   "outputs": [
    {
     "name": "stdout",
     "output_type": "stream",
     "text": [
      "(57923, 416) (6798, 416)\n"
     ]
    }
   ],
   "source": [
    "import scipy.io as sio\n",
    "### Load MFCC Features\n",
    "saved_vars = sio.loadmat('../../workdir/Datasets/audio/mfcc_feats/tf_speech_mfcc_31st_jan18.mat')\n",
    "# print(saved_vars.keys())\n",
    "\n",
    "mfcc_features_train = saved_vars['mfcc_features_train']\n",
    "mfcc_labels_train = saved_vars['mfcc_labels_train']\n",
    "\n",
    "mfcc_features_test = saved_vars['mfcc_features_val']\n",
    "mfcc_labels_test = saved_vars['mfcc_labels_val']\n",
    "print(mfcc_features_train.shape,mfcc_features_test.shape)"
   ]
  },
  {
   "cell_type": "markdown",
   "metadata": {},
   "source": [
    "# 4. Load Deep Features"
   ]
  },
  {
   "cell_type": "code",
   "execution_count": 23,
   "metadata": {
    "collapsed": false
   },
   "outputs": [
    {
     "name": "stdout",
     "output_type": "stream",
     "text": [
      "(63715, 4096) (7477, 4096)\n"
     ]
    }
   ],
   "source": [
    "deep_features_train = np.squeeze(np.load('../../workdir/Datasets/audio/deep_feats/train_set.npz'))\n",
    "deep_labels_train = np.load('../../workdir/Datasets/audio/deep_feats/train_labs.npz')\n",
    "deep_features_test = np.squeeze(np.load('../../workdir/Datasets/audio/deep_feats/validation_set.npz'))\n",
    "deep_labels_test = np.load('../../workdir/Datasets/audio/deep_feats/validation_labs.npz')\n",
    "print(deep_features_train.shape, deep_features_test.shape)"
   ]
  },
  {
   "cell_type": "markdown",
   "metadata": {},
   "source": [
    "# 5. Validation\n",
    "\n",
    "We want to choose the best model for speech classification among:\n",
    "\n",
    "- kNN classifier with MFCC features\n",
    "\n",
    "- kNN classifier with Deep features\n",
    "\n",
    "- Naive Bayes classifier with MFCC features\n",
    "\n",
    "- Naive Bayes classifier with Deep features\n",
    "\n",
    "- Multi-class Linear classifier with MFCC features\n",
    "\n",
    "- Multi-class Linear classifier with Deep features\n",
    "\n",
    "To do that, let's find the validation accuracies of each method using MFCC features and deep features.\n",
    "\n",
    "We shall use our familiar convenient function to choose an algorithm, train on training features and labels as inputs, and obtain accuracy on given features and labels."
   ]
  },
  {
   "cell_type": "markdown",
   "metadata": {},
   "source": [
    "## Function to choose algorithm, features and labels to get accuracy\n",
    "\n",
    "We created a convenient function to which you can choose the algorithm you want to use - `'kNN'`, `'NB'` (Naive Bayes), or `'linear'` (multiclass linear classifier) - and input features and labels for training and validation/testing:\n",
    "\n",
    "**`acc = predict_and_find_accuracy(algorithm, train_features, train_labels, given_features, given_labels, k)`**\n",
    "\n",
    "INPUTS:\n",
    "\n",
    "- **`algorithm`** is one of `'kNN'`, `'NB'` (Naive Bayes), and `'linear'`,\n",
    "\n",
    "\n",
    "- **`train_features`** are either `mfcc_features_train` or `deep_features_train`,\n",
    "\n",
    "\n",
    "- **`train_labels`** are either `mfcc_labels_train` or `deep_labels_train`,\n",
    "\n",
    "\n",
    "- **`given_features`** are `XXX_features_val` in case of validation, and `XXX_features_test` in case of testing (`XXX` being either `mfcc` or `deep` depending on what you chose to train the model on),\n",
    "\n",
    "\n",
    "- **`given_labels`** are `XXX_features_val` in case of validation, and `XXX_features_test` in case of testing (`XXX` being either `mfcc` or `deep` depending on what you chose to train the model on),\n",
    "\n",
    "\n",
    "- **`k`** is the value of $k$ to be used _in case_ we are using kNN classifier.\n",
    "\n",
    "OUTPUT:\n",
    "\n",
    "- **acc** is the accuracy of the `algorithm` on `given_features` & `given_labels` after being trained on `train_features` & `train_labels`."
   ]
  },
  {
   "cell_type": "markdown",
   "metadata": {},
   "source": [
    "## 5.1. kNN Classifier\n",
    "\n",
    "We want to choose the value of $k$ based on validation accuracy. Choose $k$ among 1, 3, 7, 15, 51, 101."
   ]
  },
  {
   "cell_type": "code",
   "execution_count": 28,
   "metadata": {
    "collapsed": true
   },
   "outputs": [],
   "source": [
    "values_of_k = [1, 3, 7, 15, 51, 101]"
   ]
  },
  {
   "cell_type": "markdown",
   "metadata": {},
   "source": [
    "## 5.1.1. kNN with MFCC features"
   ]
  },
  {
   "cell_type": "markdown",
   "metadata": {},
   "source": [
    "**Exercise 1: Find the best $k$ using validation accuracy on MFCC features**"
   ]
  },
  {
   "cell_type": "code",
   "execution_count": 29,
   "metadata": {
    "collapsed": false
   },
   "outputs": [
    {
     "ename": "MemoryError",
     "evalue": "",
     "output_type": "error",
     "traceback": [
      "\u001b[0;31m\u001b[0m",
      "\u001b[0;31mMemoryError\u001b[0mTraceback (most recent call last)",
      "\u001b[0;32m<ipython-input-29-d8cbdb152642>\u001b[0m in \u001b[0;36m<module>\u001b[0;34m()\u001b[0m\n\u001b[1;32m      2\u001b[0m \u001b[0;34m\u001b[0m\u001b[0m\n\u001b[1;32m      3\u001b[0m \u001b[0;32mfor\u001b[0m \u001b[0mk\u001b[0m \u001b[0;32min\u001b[0m \u001b[0mvalues_of_k\u001b[0m\u001b[0;34m:\u001b[0m\u001b[0;34m\u001b[0m\u001b[0m\n\u001b[0;32m----> 4\u001b[0;31m     \u001b[0mmfcc_k_acc\u001b[0m\u001b[0;34m.\u001b[0m\u001b[0mappend\u001b[0m\u001b[0;34m(\u001b[0m\u001b[0mpredict_and_find_accuracy\u001b[0m\u001b[0;34m(\u001b[0m\u001b[0;34m\"kNN\"\u001b[0m\u001b[0;34m,\u001b[0m \u001b[0mmfcc_features_train\u001b[0m\u001b[0;34m,\u001b[0m \u001b[0mmfcc_labels_train\u001b[0m\u001b[0;34m,\u001b[0m \u001b[0mmfcc_features_val\u001b[0m\u001b[0;34m,\u001b[0m \u001b[0mmfcc_labels_val\u001b[0m\u001b[0;34m,\u001b[0m \u001b[0mk\u001b[0m\u001b[0;34m)\u001b[0m\u001b[0;34m)\u001b[0m\u001b[0;34m\u001b[0m\u001b[0m\n\u001b[0m\u001b[1;32m      5\u001b[0m \u001b[0;34m\u001b[0m\u001b[0m\n\u001b[1;32m      6\u001b[0m \u001b[0mbest_k_mfcc\u001b[0m \u001b[0;34m=\u001b[0m \u001b[0mvalues_of_k\u001b[0m\u001b[0;34m[\u001b[0m\u001b[0mnp\u001b[0m\u001b[0;34m.\u001b[0m\u001b[0margmax\u001b[0m\u001b[0;34m(\u001b[0m\u001b[0mmfcc_k_acc\u001b[0m\u001b[0;34m)\u001b[0m\u001b[0;34m]\u001b[0m\u001b[0;34m\u001b[0m\u001b[0m\n",
      "\u001b[0;32m/notebooks/session4_1/2018_02_03_Session04/classifiers.py\u001b[0m in \u001b[0;36mpredict_and_find_accuracy\u001b[0;34m(algorithm, train_features, train_labels, given_features, given_labels, k, optimized)\u001b[0m\n\u001b[1;32m     18\u001b[0m                                \u001b[0mgiven_features\u001b[0m\u001b[0;34m=\u001b[0m\u001b[0mgiven_features\u001b[0m\u001b[0;34m,\u001b[0m\u001b[0;34m\u001b[0m\u001b[0m\n\u001b[1;32m     19\u001b[0m                                \u001b[0mk\u001b[0m\u001b[0;34m=\u001b[0m\u001b[0mk\u001b[0m\u001b[0;34m,\u001b[0m\u001b[0;34m\u001b[0m\u001b[0m\n\u001b[0;32m---> 20\u001b[0;31m                                optimized=optimized)\n\u001b[0m\u001b[1;32m     21\u001b[0m \u001b[0;34m\u001b[0m\u001b[0m\n\u001b[1;32m     22\u001b[0m     \u001b[0;32mreturn\u001b[0m \u001b[0mnp\u001b[0m\u001b[0;34m.\u001b[0m\u001b[0mmean\u001b[0m\u001b[0;34m(\u001b[0m\u001b[0mpredicted_labels\u001b[0m \u001b[0;34m==\u001b[0m \u001b[0mgiven_labels\u001b[0m\u001b[0;34m)\u001b[0m\u001b[0;34m\u001b[0m\u001b[0m\n",
      "\u001b[0;32m/notebooks/session4_1/2018_02_03_Session04/classifiers.py\u001b[0m in \u001b[0;36mpredict\u001b[0;34m(algorithm, train_features, train_labels, given_features, k, optimized)\u001b[0m\n\u001b[1;32m     38\u001b[0m \u001b[0;34m\u001b[0m\u001b[0m\n\u001b[1;32m     39\u001b[0m     \u001b[0;32mif\u001b[0m \u001b[0malgorithm\u001b[0m \u001b[0;34m==\u001b[0m \u001b[0;34m'kNN'\u001b[0m\u001b[0;34m:\u001b[0m\u001b[0;34m\u001b[0m\u001b[0m\n\u001b[0;32m---> 40\u001b[0;31m         \u001b[0mpredicted_labels\u001b[0m \u001b[0;34m=\u001b[0m \u001b[0mkNN_classify\u001b[0m\u001b[0;34m(\u001b[0m\u001b[0mk\u001b[0m\u001b[0;34m,\u001b[0m \u001b[0mtrain_features\u001b[0m\u001b[0;34m,\u001b[0m \u001b[0mtrain_labels\u001b[0m\u001b[0;34m,\u001b[0m \u001b[0mgiven_features\u001b[0m\u001b[0;34m)\u001b[0m\u001b[0;34m\u001b[0m\u001b[0m\n\u001b[0m\u001b[1;32m     41\u001b[0m \u001b[0;34m\u001b[0m\u001b[0m\n\u001b[1;32m     42\u001b[0m     \u001b[0;32mif\u001b[0m \u001b[0malgorithm\u001b[0m \u001b[0;34m==\u001b[0m \u001b[0;34m'NB'\u001b[0m\u001b[0;34m:\u001b[0m\u001b[0;34m\u001b[0m\u001b[0m\n",
      "\u001b[0;32m/notebooks/session4_1/2018_02_03_Session04/classifiers.py\u001b[0m in \u001b[0;36mkNN_classify\u001b[0;34m(k, train_features, train_labels, test_features)\u001b[0m\n\u001b[1;32m     72\u001b[0m \u001b[0;34m\u001b[0m\u001b[0m\n\u001b[1;32m     73\u001b[0m         \u001b[0mnn_labels\u001b[0m \u001b[0;34m=\u001b[0m \u001b[0;34m[\u001b[0m\u001b[0;34m]\u001b[0m\u001b[0;34m\u001b[0m\u001b[0m\n\u001b[0;32m---> 74\u001b[0;31m         \u001b[0;32mfor\u001b[0m \u001b[0mnn\u001b[0m \u001b[0;32min\u001b[0m \u001b[0mkNN\u001b[0m\u001b[0;34m(\u001b[0m\u001b[0mk\u001b[0m\u001b[0;34m,\u001b[0m \u001b[0mtrain_features\u001b[0m\u001b[0;34m,\u001b[0m \u001b[0mtrain_labels\u001b[0m\u001b[0;34m,\u001b[0m \u001b[0mtest_sample_features\u001b[0m\u001b[0;34m)\u001b[0m\u001b[0;34m:\u001b[0m\u001b[0;34m\u001b[0m\u001b[0m\n\u001b[0m\u001b[1;32m     75\u001b[0m             \u001b[0mnn_labels\u001b[0m\u001b[0;34m.\u001b[0m\u001b[0mappend\u001b[0m\u001b[0;34m(\u001b[0m\u001b[0mnn\u001b[0m\u001b[0;34m[\u001b[0m\u001b[0;34m-\u001b[0m\u001b[0;36m1\u001b[0m\u001b[0;34m]\u001b[0m\u001b[0;34m)\u001b[0m\u001b[0;34m\u001b[0m\u001b[0m\n\u001b[1;32m     76\u001b[0m \u001b[0;34m\u001b[0m\u001b[0m\n",
      "\u001b[0;32m/notebooks/session4_1/2018_02_03_Session04/classifiers.py\u001b[0m in \u001b[0;36mkNN\u001b[0;34m(k, train_features, train_labels, test_sample_features)\u001b[0m\n\u001b[1;32m     55\u001b[0m \u001b[0;32mdef\u001b[0m \u001b[0mkNN\u001b[0m\u001b[0;34m(\u001b[0m\u001b[0mk\u001b[0m\u001b[0;34m,\u001b[0m \u001b[0mtrain_features\u001b[0m\u001b[0;34m,\u001b[0m \u001b[0mtrain_labels\u001b[0m\u001b[0;34m,\u001b[0m \u001b[0mtest_sample_features\u001b[0m\u001b[0;34m)\u001b[0m\u001b[0;34m:\u001b[0m\u001b[0;34m\u001b[0m\u001b[0m\n\u001b[1;32m     56\u001b[0m     \u001b[0;31m# Compute distance\u001b[0m\u001b[0;34m\u001b[0m\u001b[0;34m\u001b[0m\u001b[0m\n\u001b[0;32m---> 57\u001b[0;31m     \u001b[0mtiled_test_sample_features\u001b[0m \u001b[0;34m=\u001b[0m \u001b[0mnp\u001b[0m\u001b[0;34m.\u001b[0m\u001b[0mtile\u001b[0m\u001b[0;34m(\u001b[0m\u001b[0mtest_sample_features\u001b[0m\u001b[0;34m,\u001b[0m \u001b[0;34m(\u001b[0m\u001b[0mlen\u001b[0m\u001b[0;34m(\u001b[0m\u001b[0mtrain_features\u001b[0m\u001b[0;34m)\u001b[0m\u001b[0;34m,\u001b[0m \u001b[0;36m1\u001b[0m\u001b[0;34m)\u001b[0m\u001b[0;34m)\u001b[0m\u001b[0;34m\u001b[0m\u001b[0m\n\u001b[0m\u001b[1;32m     58\u001b[0m     \u001b[0mdistances\u001b[0m \u001b[0;34m=\u001b[0m \u001b[0mdist\u001b[0m\u001b[0;34m(\u001b[0m\u001b[0mtrain_features\u001b[0m\u001b[0;34m,\u001b[0m \u001b[0mtiled_test_sample_features\u001b[0m\u001b[0;34m)\u001b[0m\u001b[0;34m\u001b[0m\u001b[0m\n\u001b[1;32m     59\u001b[0m     \u001b[0msort_neighbors\u001b[0m \u001b[0;34m=\u001b[0m \u001b[0mnp\u001b[0m\u001b[0;34m.\u001b[0m\u001b[0margsort\u001b[0m\u001b[0;34m(\u001b[0m\u001b[0mdistances\u001b[0m\u001b[0;34m)\u001b[0m\u001b[0;34m\u001b[0m\u001b[0m\n",
      "\u001b[0;32m/usr/local/lib/python3.5/dist-packages/numpy/lib/shape_base.py\u001b[0m in \u001b[0;36mtile\u001b[0;34m(A, reps)\u001b[0m\n\u001b[1;32m    910\u001b[0m         \u001b[0;32mfor\u001b[0m \u001b[0mdim_in\u001b[0m\u001b[0;34m,\u001b[0m \u001b[0mnrep\u001b[0m \u001b[0;32min\u001b[0m \u001b[0mzip\u001b[0m\u001b[0;34m(\u001b[0m\u001b[0mc\u001b[0m\u001b[0;34m.\u001b[0m\u001b[0mshape\u001b[0m\u001b[0;34m,\u001b[0m \u001b[0mtup\u001b[0m\u001b[0;34m)\u001b[0m\u001b[0;34m:\u001b[0m\u001b[0;34m\u001b[0m\u001b[0m\n\u001b[1;32m    911\u001b[0m             \u001b[0;32mif\u001b[0m \u001b[0mnrep\u001b[0m \u001b[0;34m!=\u001b[0m \u001b[0;36m1\u001b[0m\u001b[0;34m:\u001b[0m\u001b[0;34m\u001b[0m\u001b[0m\n\u001b[0;32m--> 912\u001b[0;31m                 \u001b[0mc\u001b[0m \u001b[0;34m=\u001b[0m \u001b[0mc\u001b[0m\u001b[0;34m.\u001b[0m\u001b[0mreshape\u001b[0m\u001b[0;34m(\u001b[0m\u001b[0;34m-\u001b[0m\u001b[0;36m1\u001b[0m\u001b[0;34m,\u001b[0m \u001b[0mn\u001b[0m\u001b[0;34m)\u001b[0m\u001b[0;34m.\u001b[0m\u001b[0mrepeat\u001b[0m\u001b[0;34m(\u001b[0m\u001b[0mnrep\u001b[0m\u001b[0;34m,\u001b[0m \u001b[0;36m0\u001b[0m\u001b[0;34m)\u001b[0m\u001b[0;34m\u001b[0m\u001b[0m\n\u001b[0m\u001b[1;32m    913\u001b[0m             \u001b[0mn\u001b[0m \u001b[0;34m//=\u001b[0m \u001b[0mdim_in\u001b[0m\u001b[0;34m\u001b[0m\u001b[0m\n\u001b[1;32m    914\u001b[0m     \u001b[0;32mreturn\u001b[0m \u001b[0mc\u001b[0m\u001b[0;34m.\u001b[0m\u001b[0mreshape\u001b[0m\u001b[0;34m(\u001b[0m\u001b[0mshape_out\u001b[0m\u001b[0;34m)\u001b[0m\u001b[0;34m\u001b[0m\u001b[0m\n",
      "\u001b[0;31mMemoryError\u001b[0m: "
     ]
    }
   ],
   "source": [
    "mfcc_k_acc = []\n",
    "\n",
    "for k in values_of_k:\n",
    "    mfcc_k_acc.append(predict_and_find_accuracy(\"kNN\", mfcc_features_train, mfcc_labels_train, mfcc_features_val, mfcc_labels_val, k))\n",
    "    \n",
    "best_k_mfcc = values_of_k[np.argmax(mfcc_k_acc)]\n",
    "print(best_k_mfcc)"
   ]
  },
  {
   "cell_type": "code",
   "execution_count": null,
   "metadata": {
    "collapsed": true
   },
   "outputs": [],
   "source": [
    "print(best_k_mfcc)"
   ]
  },
  {
   "cell_type": "markdown",
   "metadata": {},
   "source": [
    "**Exercise 2: Find the validation accuracy of kNN classifier on MFCC features using best $k$**"
   ]
  },
  {
   "cell_type": "code",
   "execution_count": null,
   "metadata": {
    "collapsed": true
   },
   "outputs": [],
   "source": [
    "kNN_mfcc_val_acc = ????????\n",
    "print(kNN_mfcc_val_acc)"
   ]
  },
  {
   "cell_type": "markdown",
   "metadata": {},
   "source": [
    "## 5.1.2. kNN with Deep features"
   ]
  },
  {
   "cell_type": "markdown",
   "metadata": {},
   "source": [
    "**Exercise 3: Find the best $k$ using validation accuracy on Deep features**"
   ]
  },
  {
   "cell_type": "code",
   "execution_count": null,
   "metadata": {
    "collapsed": true
   },
   "outputs": [],
   "source": [
    "# Your code here\n",
    "????????????\n",
    "\n",
    "best_k_deep = ????????"
   ]
  },
  {
   "cell_type": "code",
   "execution_count": null,
   "metadata": {
    "collapsed": true
   },
   "outputs": [],
   "source": [
    "print(best_k_deep)"
   ]
  },
  {
   "cell_type": "markdown",
   "metadata": {},
   "source": [
    "**Exercise 4: Find the validation accuracy of kNN classifier on Deep features using best $k$**"
   ]
  },
  {
   "cell_type": "code",
   "execution_count": null,
   "metadata": {
    "collapsed": true
   },
   "outputs": [],
   "source": [
    "kNN_deep_val_acc = ????????\n",
    "print(kNN_deep_val_acc)"
   ]
  },
  {
   "cell_type": "markdown",
   "metadata": {},
   "source": [
    "## 5.2 Naive Bayes classifier\n",
    "\n",
    "Find the validation accuracies with MFCC features and Deep features using Naive Bayes classifier."
   ]
  },
  {
   "cell_type": "markdown",
   "metadata": {},
   "source": [
    "**Exercise 5: Find the validation accuracy of Naive Bayes classifier on MFCC features**"
   ]
  },
  {
   "cell_type": "code",
   "execution_count": null,
   "metadata": {
    "collapsed": true
   },
   "outputs": [],
   "source": [
    "NB_mfcc_val_acc = ????????\n",
    "print(NB_mfcc_val_acc)"
   ]
  },
  {
   "cell_type": "markdown",
   "metadata": {},
   "source": [
    "**Exercise 6: Find the validation accuracy of Naive Bayes classifier on deep features**"
   ]
  },
  {
   "cell_type": "code",
   "execution_count": null,
   "metadata": {
    "collapsed": true
   },
   "outputs": [],
   "source": [
    "NB_deep_val_acc = ????????\n",
    "print(NB_deep_val_acc)"
   ]
  },
  {
   "cell_type": "markdown",
   "metadata": {},
   "source": [
    "## 5.3 Multi-class linear classifier\n",
    "\n",
    "Find the validation accuracies with MFCC features and Deep features using Multi-class linear classifier."
   ]
  },
  {
   "cell_type": "markdown",
   "metadata": {},
   "source": [
    "**Exercise 7: Find the validation accuracy of Multi-class linear classifier on MFCC features**"
   ]
  },
  {
   "cell_type": "code",
   "execution_count": null,
   "metadata": {
    "collapsed": true
   },
   "outputs": [],
   "source": [
    "linear_mfcc_val_acc = ????????\n",
    "print(linear_mfcc_val_acc)"
   ]
  },
  {
   "cell_type": "markdown",
   "metadata": {},
   "source": [
    "**Exercise 8: Find the validation accuracy of Multi-class linear classifier on Deep features**"
   ]
  },
  {
   "cell_type": "code",
   "execution_count": null,
   "metadata": {
    "collapsed": true
   },
   "outputs": [],
   "source": [
    "linear_deep_val_acc = ????????\n",
    "print(linear_deep_val_acc)"
   ]
  },
  {
   "cell_type": "markdown",
   "metadata": {},
   "source": [
    "## 5.4 Choose best model\n",
    "\n",
    "Let us compare the validation accuracies of each model:"
   ]
  },
  {
   "cell_type": "code",
   "execution_count": null,
   "metadata": {
    "collapsed": true
   },
   "outputs": [],
   "source": [
    "print(\"      Model                       Val acc \")\n",
    "print(\"------------------------------------------\")\n",
    "print(\"kNN with MFCC features         :   \", \"{0:.03f}\".format(kNN_mfcc_val_acc))\n",
    "print(\"kNN with Deep features         :   \", \"{0:.03f}\".format(kNN_deep_val_acc))\n",
    "print(\"Naive Bayes with MFCC features :   \", \"{0:.03f}\".format(NB_mfcc_val_acc))\n",
    "print(\"Naive Bayes with Deep features :   \", \"{0:.03f}\".format(NB_deep_val_acc))\n",
    "print(\"Linear with MFCC features      :   \", \"{0:.03f}\".format(linear_mfcc_val_acc))\n",
    "print(\"Linear with Deep features      :   \", \"{0:.03f}\".format(linear_deep_val_acc))"
   ]
  },
  {
   "cell_type": "markdown",
   "metadata": {},
   "source": [
    "**Exercise 9: Which is the best model among the above 6 based on their validation accuracies?**"
   ]
  },
  {
   "cell_type": "markdown",
   "metadata": {},
   "source": [
    "# 6. Testing\n",
    "\n",
    "**Exercise 10: Find the testing accuracies.**"
   ]
  },
  {
   "cell_type": "code",
   "execution_count": 26,
   "metadata": {
    "collapsed": false
   },
   "outputs": [
    {
     "ename": "MemoryError",
     "evalue": "",
     "output_type": "error",
     "traceback": [
      "\u001b[0;31m\u001b[0m",
      "\u001b[0;31mMemoryError\u001b[0mTraceback (most recent call last)",
      "\u001b[0;32m<ipython-input-26-ecc50bde75a1>\u001b[0m in \u001b[0;36m<module>\u001b[0;34m()\u001b[0m\n\u001b[1;32m      3\u001b[0m \u001b[0;31m#NB_mfcc_test_acc = predict_and_find_accuracy(\"NB\", mfcc_features_train, mfcc_labels_train, mfcc_features_test, mfcc_labels_test)\u001b[0m\u001b[0;34m\u001b[0m\u001b[0;34m\u001b[0m\u001b[0m\n\u001b[1;32m      4\u001b[0m \u001b[0;31m#NB_deep_test_acc = predict_and_find_accuracy(\"NB\", deep_features_train, deep_labels_train, deep_features_test, deep_labels_test)\u001b[0m\u001b[0;34m\u001b[0m\u001b[0;34m\u001b[0m\u001b[0m\n\u001b[0;32m----> 5\u001b[0;31m \u001b[0mNN_mfcc_test_acc\u001b[0m \u001b[0;34m=\u001b[0m \u001b[0mpredict_and_find_accuracy\u001b[0m\u001b[0;34m(\u001b[0m\u001b[0;34m\"kNN\"\u001b[0m\u001b[0;34m,\u001b[0m \u001b[0mmfcc_features_train\u001b[0m\u001b[0;34m,\u001b[0m \u001b[0mmfcc_labels_train\u001b[0m\u001b[0;34m,\u001b[0m \u001b[0mmfcc_features_test\u001b[0m\u001b[0;34m,\u001b[0m \u001b[0mmfcc_labels_test\u001b[0m\u001b[0;34m)\u001b[0m\u001b[0;34m\u001b[0m\u001b[0m\n\u001b[0m\u001b[1;32m      6\u001b[0m \u001b[0;31m#NN_deep_test_acc = predict_and_find_accuracy(\"kNN\", deep_features_train, deep_labels_train, deep_features_test, deep_labels_test)\u001b[0m\u001b[0;34m\u001b[0m\u001b[0;34m\u001b[0m\u001b[0m\n\u001b[1;32m      7\u001b[0m \u001b[0;31m#linear_mfcc_test_acc = predict_and_find_accuracy(\"linear\", mfcc_features_train, mfcc_labels_train, mfcc_features_test, mfcc_labels_test)\u001b[0m\u001b[0;34m\u001b[0m\u001b[0;34m\u001b[0m\u001b[0m\n",
      "\u001b[0;32m/notebooks/session4_1/2018_02_03_Session04/classifiers.py\u001b[0m in \u001b[0;36mpredict_and_find_accuracy\u001b[0;34m(algorithm, train_features, train_labels, given_features, given_labels, k, optimized)\u001b[0m\n\u001b[1;32m     18\u001b[0m                                \u001b[0mgiven_features\u001b[0m\u001b[0;34m=\u001b[0m\u001b[0mgiven_features\u001b[0m\u001b[0;34m,\u001b[0m\u001b[0;34m\u001b[0m\u001b[0m\n\u001b[1;32m     19\u001b[0m                                \u001b[0mk\u001b[0m\u001b[0;34m=\u001b[0m\u001b[0mk\u001b[0m\u001b[0;34m,\u001b[0m\u001b[0;34m\u001b[0m\u001b[0m\n\u001b[0;32m---> 20\u001b[0;31m                                optimized=optimized)\n\u001b[0m\u001b[1;32m     21\u001b[0m \u001b[0;34m\u001b[0m\u001b[0m\n\u001b[1;32m     22\u001b[0m     \u001b[0;32mreturn\u001b[0m \u001b[0mnp\u001b[0m\u001b[0;34m.\u001b[0m\u001b[0mmean\u001b[0m\u001b[0;34m(\u001b[0m\u001b[0mpredicted_labels\u001b[0m \u001b[0;34m==\u001b[0m \u001b[0mgiven_labels\u001b[0m\u001b[0;34m)\u001b[0m\u001b[0;34m\u001b[0m\u001b[0m\n",
      "\u001b[0;32m/notebooks/session4_1/2018_02_03_Session04/classifiers.py\u001b[0m in \u001b[0;36mpredict\u001b[0;34m(algorithm, train_features, train_labels, given_features, k, optimized)\u001b[0m\n\u001b[1;32m     38\u001b[0m \u001b[0;34m\u001b[0m\u001b[0m\n\u001b[1;32m     39\u001b[0m     \u001b[0;32mif\u001b[0m \u001b[0malgorithm\u001b[0m \u001b[0;34m==\u001b[0m \u001b[0;34m'kNN'\u001b[0m\u001b[0;34m:\u001b[0m\u001b[0;34m\u001b[0m\u001b[0m\n\u001b[0;32m---> 40\u001b[0;31m         \u001b[0mpredicted_labels\u001b[0m \u001b[0;34m=\u001b[0m \u001b[0mkNN_classify\u001b[0m\u001b[0;34m(\u001b[0m\u001b[0mk\u001b[0m\u001b[0;34m,\u001b[0m \u001b[0mtrain_features\u001b[0m\u001b[0;34m,\u001b[0m \u001b[0mtrain_labels\u001b[0m\u001b[0;34m,\u001b[0m \u001b[0mgiven_features\u001b[0m\u001b[0;34m)\u001b[0m\u001b[0;34m\u001b[0m\u001b[0m\n\u001b[0m\u001b[1;32m     41\u001b[0m \u001b[0;34m\u001b[0m\u001b[0m\n\u001b[1;32m     42\u001b[0m     \u001b[0;32mif\u001b[0m \u001b[0malgorithm\u001b[0m \u001b[0;34m==\u001b[0m \u001b[0;34m'NB'\u001b[0m\u001b[0;34m:\u001b[0m\u001b[0;34m\u001b[0m\u001b[0m\n",
      "\u001b[0;32m/notebooks/session4_1/2018_02_03_Session04/classifiers.py\u001b[0m in \u001b[0;36mkNN_classify\u001b[0;34m(k, train_features, train_labels, test_features)\u001b[0m\n\u001b[1;32m     72\u001b[0m \u001b[0;34m\u001b[0m\u001b[0m\n\u001b[1;32m     73\u001b[0m         \u001b[0mnn_labels\u001b[0m \u001b[0;34m=\u001b[0m \u001b[0;34m[\u001b[0m\u001b[0;34m]\u001b[0m\u001b[0;34m\u001b[0m\u001b[0m\n\u001b[0;32m---> 74\u001b[0;31m         \u001b[0;32mfor\u001b[0m \u001b[0mnn\u001b[0m \u001b[0;32min\u001b[0m \u001b[0mkNN\u001b[0m\u001b[0;34m(\u001b[0m\u001b[0mk\u001b[0m\u001b[0;34m,\u001b[0m \u001b[0mtrain_features\u001b[0m\u001b[0;34m,\u001b[0m \u001b[0mtrain_labels\u001b[0m\u001b[0;34m,\u001b[0m \u001b[0mtest_sample_features\u001b[0m\u001b[0;34m)\u001b[0m\u001b[0;34m:\u001b[0m\u001b[0;34m\u001b[0m\u001b[0m\n\u001b[0m\u001b[1;32m     75\u001b[0m             \u001b[0mnn_labels\u001b[0m\u001b[0;34m.\u001b[0m\u001b[0mappend\u001b[0m\u001b[0;34m(\u001b[0m\u001b[0mnn\u001b[0m\u001b[0;34m[\u001b[0m\u001b[0;34m-\u001b[0m\u001b[0;36m1\u001b[0m\u001b[0;34m]\u001b[0m\u001b[0;34m)\u001b[0m\u001b[0;34m\u001b[0m\u001b[0m\n\u001b[1;32m     76\u001b[0m \u001b[0;34m\u001b[0m\u001b[0m\n",
      "\u001b[0;32m/notebooks/session4_1/2018_02_03_Session04/classifiers.py\u001b[0m in \u001b[0;36mkNN\u001b[0;34m(k, train_features, train_labels, test_sample_features)\u001b[0m\n\u001b[1;32m     55\u001b[0m \u001b[0;32mdef\u001b[0m \u001b[0mkNN\u001b[0m\u001b[0;34m(\u001b[0m\u001b[0mk\u001b[0m\u001b[0;34m,\u001b[0m \u001b[0mtrain_features\u001b[0m\u001b[0;34m,\u001b[0m \u001b[0mtrain_labels\u001b[0m\u001b[0;34m,\u001b[0m \u001b[0mtest_sample_features\u001b[0m\u001b[0;34m)\u001b[0m\u001b[0;34m:\u001b[0m\u001b[0;34m\u001b[0m\u001b[0m\n\u001b[1;32m     56\u001b[0m     \u001b[0;31m# Compute distance\u001b[0m\u001b[0;34m\u001b[0m\u001b[0;34m\u001b[0m\u001b[0m\n\u001b[0;32m---> 57\u001b[0;31m     \u001b[0mtiled_test_sample_features\u001b[0m \u001b[0;34m=\u001b[0m \u001b[0mnp\u001b[0m\u001b[0;34m.\u001b[0m\u001b[0mtile\u001b[0m\u001b[0;34m(\u001b[0m\u001b[0mtest_sample_features\u001b[0m\u001b[0;34m,\u001b[0m \u001b[0;34m(\u001b[0m\u001b[0mlen\u001b[0m\u001b[0;34m(\u001b[0m\u001b[0mtrain_features\u001b[0m\u001b[0;34m)\u001b[0m\u001b[0;34m,\u001b[0m \u001b[0;36m1\u001b[0m\u001b[0;34m)\u001b[0m\u001b[0;34m)\u001b[0m\u001b[0;34m\u001b[0m\u001b[0m\n\u001b[0m\u001b[1;32m     58\u001b[0m     \u001b[0mdistances\u001b[0m \u001b[0;34m=\u001b[0m \u001b[0mdist\u001b[0m\u001b[0;34m(\u001b[0m\u001b[0mtrain_features\u001b[0m\u001b[0;34m,\u001b[0m \u001b[0mtiled_test_sample_features\u001b[0m\u001b[0;34m)\u001b[0m\u001b[0;34m\u001b[0m\u001b[0m\n\u001b[1;32m     59\u001b[0m     \u001b[0msort_neighbors\u001b[0m \u001b[0;34m=\u001b[0m \u001b[0mnp\u001b[0m\u001b[0;34m.\u001b[0m\u001b[0margsort\u001b[0m\u001b[0;34m(\u001b[0m\u001b[0mdistances\u001b[0m\u001b[0;34m)\u001b[0m\u001b[0;34m\u001b[0m\u001b[0m\n",
      "\u001b[0;32m/usr/local/lib/python3.5/dist-packages/numpy/lib/shape_base.py\u001b[0m in \u001b[0;36mtile\u001b[0;34m(A, reps)\u001b[0m\n\u001b[1;32m    910\u001b[0m         \u001b[0;32mfor\u001b[0m \u001b[0mdim_in\u001b[0m\u001b[0;34m,\u001b[0m \u001b[0mnrep\u001b[0m \u001b[0;32min\u001b[0m \u001b[0mzip\u001b[0m\u001b[0;34m(\u001b[0m\u001b[0mc\u001b[0m\u001b[0;34m.\u001b[0m\u001b[0mshape\u001b[0m\u001b[0;34m,\u001b[0m \u001b[0mtup\u001b[0m\u001b[0;34m)\u001b[0m\u001b[0;34m:\u001b[0m\u001b[0;34m\u001b[0m\u001b[0m\n\u001b[1;32m    911\u001b[0m             \u001b[0;32mif\u001b[0m \u001b[0mnrep\u001b[0m \u001b[0;34m!=\u001b[0m \u001b[0;36m1\u001b[0m\u001b[0;34m:\u001b[0m\u001b[0;34m\u001b[0m\u001b[0m\n\u001b[0;32m--> 912\u001b[0;31m                 \u001b[0mc\u001b[0m \u001b[0;34m=\u001b[0m \u001b[0mc\u001b[0m\u001b[0;34m.\u001b[0m\u001b[0mreshape\u001b[0m\u001b[0;34m(\u001b[0m\u001b[0;34m-\u001b[0m\u001b[0;36m1\u001b[0m\u001b[0;34m,\u001b[0m \u001b[0mn\u001b[0m\u001b[0;34m)\u001b[0m\u001b[0;34m.\u001b[0m\u001b[0mrepeat\u001b[0m\u001b[0;34m(\u001b[0m\u001b[0mnrep\u001b[0m\u001b[0;34m,\u001b[0m \u001b[0;36m0\u001b[0m\u001b[0;34m)\u001b[0m\u001b[0;34m\u001b[0m\u001b[0m\n\u001b[0m\u001b[1;32m    913\u001b[0m             \u001b[0mn\u001b[0m \u001b[0;34m//=\u001b[0m \u001b[0mdim_in\u001b[0m\u001b[0;34m\u001b[0m\u001b[0m\n\u001b[1;32m    914\u001b[0m     \u001b[0;32mreturn\u001b[0m \u001b[0mc\u001b[0m\u001b[0;34m.\u001b[0m\u001b[0mreshape\u001b[0m\u001b[0;34m(\u001b[0m\u001b[0mshape_out\u001b[0m\u001b[0;34m)\u001b[0m\u001b[0;34m\u001b[0m\u001b[0m\n",
      "\u001b[0;31mMemoryError\u001b[0m: "
     ]
    }
   ],
   "source": [
    "# Finding Testing accuracies\n",
    "# Finding Testing accuracies\n",
    "#NB_mfcc_test_acc = predict_and_find_accuracy(\"NB\", mfcc_features_train, mfcc_labels_train, mfcc_features_test, mfcc_labels_test)\n",
    "#NB_deep_test_acc = predict_and_find_accuracy(\"NB\", deep_features_train, deep_labels_train, deep_features_test, deep_labels_test)\n",
    "NN_mfcc_test_acc = predict_and_find_accuracy(\"kNN\", mfcc_features_train, mfcc_labels_train, mfcc_features_test, mfcc_labels_test)\n",
    "#NN_deep_test_acc = predict_and_find_accuracy(\"kNN\", deep_features_train, deep_labels_train, deep_features_test, deep_labels_test)\n",
    "#linear_mfcc_test_acc = predict_and_find_accuracy(\"linear\", mfcc_features_train, mfcc_labels_train, mfcc_features_test, mfcc_labels_test)\n",
    "#linear_deep_test_acc = predict_and_find_accuracy(\"linear\", deep_features_train, deep_labels_train, deep_features_test, deep_labels_test)"
   ]
  },
  {
   "cell_type": "markdown",
   "metadata": {},
   "source": [
    "Comparing the validation and testing accuracies:"
   ]
  },
  {
   "cell_type": "code",
   "execution_count": null,
   "metadata": {
    "collapsed": true
   },
   "outputs": [],
   "source": [
    "print(\"      Model                       Val acc      Test acc \")\n",
    "print(\"--------------------------------------------------------\")\n",
    "print(\"kNN with MFCC features         :   \", \"{0:.03f}\".format(kNN_mfcc_val_acc), \"      \", \"{0:.03f}\".format(kNN_mfcc_test_acc))\n",
    "print(\"kNN with Deep features         :   \", \"{0:.03f}\".format(kNN_deep_val_acc), \"      \", \"{0:.03f}\".format(kNN_deep_test_acc))\n",
    "print(\"Naive Bayes with MFCC features :   \", \"{0:.03f}\".format(NB_mfcc_val_acc), \"      \", \"{0:.03f}\".format(NB_mfcc_test_acc))\n",
    "print(\"Naive Bayes with Deep features :   \", \"{0:.03f}\".format(NB_deep_val_acc), \"      \", \"{0:.03f}\".format(NB_deep_test_acc))\n",
    "print(\"Linear with MFCC features      :   \", \"{0:.03f}\".format(linear_mfcc_val_acc), \"      \", \"{0:.03f}\".format(linear_mfcc_test_acc))\n",
    "print(\"Linear with Deep features      :   \", \"{0:.03f}\".format(linear_deep_val_acc), \"      \", \"{0:.03f}\".format(linear_deep_test_acc))"
   ]
  },
  {
   "cell_type": "markdown",
   "metadata": {},
   "source": [
    "**Do the validation accuracies estimate the testing accuracies well?**"
   ]
  },
  {
   "cell_type": "code",
   "execution_count": null,
   "metadata": {
    "collapsed": true
   },
   "outputs": [],
   "source": []
  },
  {
   "cell_type": "code",
   "execution_count": null,
   "metadata": {
    "collapsed": true
   },
   "outputs": [],
   "source": []
  },
  {
   "cell_type": "code",
   "execution_count": null,
   "metadata": {
    "collapsed": true
   },
   "outputs": [],
   "source": []
  },
  {
   "cell_type": "code",
   "execution_count": null,
   "metadata": {
    "collapsed": true
   },
   "outputs": [],
   "source": []
  },
  {
   "cell_type": "code",
   "execution_count": null,
   "metadata": {
    "collapsed": true
   },
   "outputs": [],
   "source": []
  },
  {
   "cell_type": "code",
   "execution_count": null,
   "metadata": {
    "collapsed": true
   },
   "outputs": [],
   "source": []
  },
  {
   "cell_type": "code",
   "execution_count": null,
   "metadata": {
    "collapsed": true
   },
   "outputs": [],
   "source": []
  },
  {
   "cell_type": "markdown",
   "metadata": {},
   "source": [
    "# SOLUTIONS"
   ]
  },
  {
   "cell_type": "markdown",
   "metadata": {},
   "source": [
    "# Exercise 1"
   ]
  },
  {
   "cell_type": "code",
   "execution_count": null,
   "metadata": {
    "collapsed": true
   },
   "outputs": [],
   "source": [
    "mfcc_k_acc = []\n",
    "\n",
    "for k in values_of_k:\n",
    "    mfcc_k_acc.append(predict_and_find_accuracy(\"kNN\", mfcc_features_train, mfcc_labels_train, mfcc_features_val, mfcc_labels_val, k))\n",
    "    \n",
    "best_k_mfcc = values_of_k[np.argmax(mfcc_k_acc)]\n",
    "print(best_k_mfcc)"
   ]
  },
  {
   "cell_type": "markdown",
   "metadata": {},
   "source": [
    "# Exercise 2"
   ]
  },
  {
   "cell_type": "code",
   "execution_count": null,
   "metadata": {
    "collapsed": true
   },
   "outputs": [],
   "source": [
    "kNN_mfcc_val_acc = predict_and_find_accuracy(\"kNN\", mfcc_features_train, mfcc_labels_train, mfcc_features_val, mfcc_labels_val, best_k_mfcc)\n",
    "print(kNN_mfcc_val_acc)"
   ]
  },
  {
   "cell_type": "markdown",
   "metadata": {},
   "source": [
    "# Exercise 3"
   ]
  },
  {
   "cell_type": "code",
   "execution_count": null,
   "metadata": {
    "collapsed": true
   },
   "outputs": [],
   "source": [
    "deep_k_acc = []\n",
    "\n",
    "for k in values_of_k:\n",
    "    deep_k_acc.append(predict_and_find_accuracy(\"kNN\", deep_features_train, deep_labels_train, deep_features_val, deep_labels_val, k))\n",
    "    \n",
    "best_k_deep = values_of_k[np.argmax(deep_k_acc)]\n",
    "print(best_k_deep)"
   ]
  },
  {
   "cell_type": "markdown",
   "metadata": {},
   "source": [
    "# Exercise 4"
   ]
  },
  {
   "cell_type": "code",
   "execution_count": null,
   "metadata": {
    "collapsed": true
   },
   "outputs": [],
   "source": [
    "kNN_deep_val_acc = predict_and_find_accuracy(\"kNN\", deep_features_train, deep_labels_train, deep_features_val, deep_labels_val, best_k_deep)\n",
    "print(kNN_deep_val_acc)"
   ]
  },
  {
   "cell_type": "markdown",
   "metadata": {},
   "source": [
    "# Exercise 5"
   ]
  },
  {
   "cell_type": "code",
   "execution_count": null,
   "metadata": {
    "collapsed": true
   },
   "outputs": [],
   "source": [
    "NB_mfcc_val_acc = predict_and_find_accuracy(\"NB\", mfcc_features_train, mfcc_labels_train, mfcc_features_val, mfcc_labels_val)\n",
    "print(NB_mfcc_val_acc)"
   ]
  },
  {
   "cell_type": "markdown",
   "metadata": {},
   "source": [
    "# Exercise 6"
   ]
  },
  {
   "cell_type": "code",
   "execution_count": null,
   "metadata": {
    "collapsed": true
   },
   "outputs": [],
   "source": [
    "NB_deep_val_acc = predict_and_find_accuracy(\"NB\", deep_features_train, deep_labels_train, deep_features_val, deep_labels_val)\n",
    "print(NB_deep_val_acc)"
   ]
  },
  {
   "cell_type": "markdown",
   "metadata": {},
   "source": [
    "# Exercise 7"
   ]
  },
  {
   "cell_type": "code",
   "execution_count": null,
   "metadata": {
    "collapsed": true
   },
   "outputs": [],
   "source": [
    "linear_mfcc_val_acc = predict_and_find_accuracy(\"linear\", mfcc_features_train, mfcc_labels_train, mfcc_features_val, mfcc_labels_val)\n",
    "print(linear_mfcc_val_acc)"
   ]
  },
  {
   "cell_type": "markdown",
   "metadata": {},
   "source": [
    "# Exercise 8"
   ]
  },
  {
   "cell_type": "code",
   "execution_count": null,
   "metadata": {
    "collapsed": true
   },
   "outputs": [],
   "source": [
    "linear_deep_val_acc = predict_and_find_accuracy(\"linear\", deep_features_train, deep_labels_train, deep_features_val, deep_labels_val)\n",
    "print(linear_deep_val_acc)"
   ]
  },
  {
   "cell_type": "markdown",
   "metadata": {},
   "source": [
    "# Exercise 9"
   ]
  },
  {
   "cell_type": "code",
   "execution_count": null,
   "metadata": {
    "collapsed": true
   },
   "outputs": [],
   "source": [
    "????????????????"
   ]
  },
  {
   "cell_type": "markdown",
   "metadata": {},
   "source": [
    "# Exercise 10"
   ]
  },
  {
   "cell_type": "code",
   "execution_count": null,
   "metadata": {
    "collapsed": true
   },
   "outputs": [],
   "source": [
    "# Finding Testing accuracies\n",
    "NB_mfcc_test_acc = predict_and_find_accuracy(\"NB\", mfcc_features_train, mfcc_labels_train, mfcc_features_test, mfcc_labels_test)\n",
    "NB_deep_test_acc = predict_and_find_accuracy(\"NB\", deep_features_train, deep_labels_train, deep_features_test, deep_labels_test)\n",
    "kNN_mfcc_test_acc = predict_and_find_accuracy(\"kNN\", mfcc_features_train, mfcc_labels_train, mfcc_features_test, mfcc_labels_test)\n",
    "kNN_deep_test_acc = predict_and_find_accuracy(\"kNN\", deep_features_train, deep_labels_train, deep_features_test, deep_labels_test)\n",
    "linear_mfcc_test_acc = predict_and_find_accuracy(\"linear\", mfcc_features_train, mfcc_labels_train, mfcc_features_test, mfcc_labels_test)\n",
    "linear_deep_test_acc = predict_and_find_accuracy(\"linear\", deep_features_train, deep_labels_train, deep_features_test, deep_labels_test)"
   ]
  }
 ],
 "metadata": {
  "kernelspec": {
   "display_name": "Python 3",
   "language": "python",
   "name": "python3"
  },
  "language_info": {
   "codemirror_mode": {
    "name": "ipython",
    "version": 3
   },
   "file_extension": ".py",
   "mimetype": "text/x-python",
   "name": "python",
   "nbconvert_exporter": "python",
   "pygments_lexer": "ipython3",
   "version": "3.6.0"
  }
 },
 "nbformat": 4,
 "nbformat_minor": 2
}
